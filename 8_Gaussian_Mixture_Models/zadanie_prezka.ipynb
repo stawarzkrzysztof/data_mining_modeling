{
 "cells": [
  {
   "cell_type": "code",
   "execution_count": 2,
   "metadata": {},
   "outputs": [],
   "source": [
    "import pandas as pd\n",
    "import numpy as np\n",
    "import matplotlib\n",
    "from matplotlib import pyplot as plt\n",
    "import seaborn as sns\n",
    "import warnings\n",
    "from IPython.display import set_matplotlib_formats\n",
    "\n",
    "warnings.filterwarnings(\"ignore\")\n",
    "set_matplotlib_formats('svg')\n",
    "sns.set_style(style=\"darkgrid\")"
   ]
  },
  {
   "cell_type": "markdown",
   "metadata": {},
   "source": [
    "Pewnego dnia, w małym mieście o nazwie “DataVille”, mieszkańcy zauważyli, że ich miasto zaczęło doświadczać dziwnych zjawisk. Zauważyli, że niektóre obszary miasta zaczęły wykazywać niezwykłe wzorce, które nie były wcześniej widoczne. Władze miasta postanowiły zbadać te zjawiska i zebrały dane z różnych obszarów miasta.  \n",
    "  \n",
    "Twoim zadaniem jako naukowca ds. danych jest analiza tych danych i zrozumienie, co się dzieje. Dane są dostępne w pliku CSV o nazwie `DataVille.csv`. Każdy wiersz w pliku reprezentuje obszar w mieście, a kolumny to różne cechy tego obszaru.\n"
   ]
  },
  {
   "cell_type": "markdown",
   "metadata": {},
   "source": [
    "# 1. Wczytaj dane z pliku `DataVille.csv` za pomocą biblioteki `pandas`. Wyświetl pierwsze 5 wierszy danych."
   ]
  },
  {
   "cell_type": "code",
   "execution_count": null,
   "metadata": {},
   "outputs": [],
   "source": []
  },
  {
   "cell_type": "code",
   "execution_count": null,
   "metadata": {},
   "outputs": [],
   "source": [
    "#  Odpowiedz\n",
    "import pandas as pd\n",
    "\n",
    "data = pd.read_csv('DataVille.csv')\n",
    "data.head()"
   ]
  },
  {
   "cell_type": "markdown",
   "metadata": {},
   "source": [
    "# 2. Sprawdź, czy w danych są jakieś brakujące wartości."
   ]
  },
  {
   "cell_type": "code",
   "execution_count": null,
   "metadata": {},
   "outputs": [],
   "source": []
  },
  {
   "cell_type": "code",
   "execution_count": null,
   "metadata": {},
   "outputs": [],
   "source": [
    "#  Odpowiedz\n",
    "data.isnull().sum()"
   ]
  },
  {
   "cell_type": "markdown",
   "metadata": {},
   "source": [
    "# 3. Przedstaw podstawowe statystyki opisowe dla każdej kolumny w danych."
   ]
  },
  {
   "cell_type": "code",
   "execution_count": null,
   "metadata": {},
   "outputs": [],
   "source": []
  },
  {
   "cell_type": "code",
   "execution_count": null,
   "metadata": {},
   "outputs": [],
   "source": [
    "#  Odpowiedz\n",
    "data.describe()"
   ]
  },
  {
   "cell_type": "markdown",
   "metadata": {},
   "source": [
    "# 4. Zwizualizuj rozproszenie danych.\n",
    "# Ile klastrów widzisz?"
   ]
  },
  {
   "cell_type": "code",
   "execution_count": null,
   "metadata": {},
   "outputs": [],
   "source": []
  },
  {
   "cell_type": "code",
   "execution_count": null,
   "metadata": {},
   "outputs": [],
   "source": [
    "#  Odpowiedz\n",
    "plt.scatter(x=data[\"X\"], y=data[\"Y\"])\n",
    "plt.show()"
   ]
  },
  {
   "cell_type": "markdown",
   "metadata": {},
   "source": [
    "# 5. Zastosuj algorytmy grupowania `K-Means` i `GMM` do grupowania danych.  \n",
    "#  Zwizualizuj wyniki.  \n",
    "#  Oceń klasyfikacje."
   ]
  },
  {
   "cell_type": "markdown",
   "metadata": {},
   "source": [
    "__Note:__ Dla lepszego wyniku wizualizacji mozesz uzyc kolormapy `bwr`"
   ]
  },
  {
   "cell_type": "code",
   "execution_count": 126,
   "metadata": {},
   "outputs": [],
   "source": []
  },
  {
   "cell_type": "code",
   "execution_count": null,
   "metadata": {},
   "outputs": [],
   "source": [
    "#  Odpowiedzi\n",
    "from sklearn.cluster import KMeans\n",
    "from sklearn.mixture import GaussianMixture\n",
    "\n",
    "k=2\n",
    "kmeans = KMeans(n_clusters=k).fit(data)\n",
    "plt.scatter(x=data[\"X\"], y=data[\"Y\"], c=kmeans.labels_, cmap=\"bwr\")\n",
    "plt.show()\n",
    "\n",
    "gmm = GaussianMixture(n_components=k).fit(data)\n",
    "plt.scatter(x=data[\"X\"], y=data[\"Y\"], c=gmm.predict(data))\n",
    "# plt.scatter(x=data[\"X\"], y=data[\"Y\"], c=gmm.predict_proba(data)[:, 0])\n",
    "plt.show()"
   ]
  }
 ],
 "metadata": {
  "kernelspec": {
   "display_name": "portfolio",
   "language": "python",
   "name": "python3"
  },
  "language_info": {
   "codemirror_mode": {
    "name": "ipython",
    "version": 3
   },
   "file_extension": ".py",
   "mimetype": "text/x-python",
   "name": "python",
   "nbconvert_exporter": "python",
   "pygments_lexer": "ipython3",
   "version": "3.11.4"
  }
 },
 "nbformat": 4,
 "nbformat_minor": 2
}
