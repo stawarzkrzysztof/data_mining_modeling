{
 "cells": [
  {
   "cell_type": "code",
   "execution_count": 415,
   "metadata": {},
   "outputs": [],
   "source": [
    "import pandas as pd\n",
    "import numpy as np\n",
    "import matplotlib\n",
    "from matplotlib import pyplot as plt\n",
    "import seaborn as sns\n",
    "sns.set_style(style=\"darkgrid\")"
   ]
  },
  {
   "cell_type": "code",
   "execution_count": 416,
   "metadata": {},
   "outputs": [],
   "source": [
    "import warnings\n",
    "warnings.filterwarnings(\"ignore\")"
   ]
  },
  {
   "cell_type": "code",
   "execution_count": 417,
   "metadata": {},
   "outputs": [],
   "source": [
    "df = pd.read_csv('sms_spam.csv', encoding=\"utf8\")"
   ]
  },
  {
   "cell_type": "code",
   "execution_count": 418,
   "metadata": {},
   "outputs": [
    {
     "data": {
      "text/html": [
       "<div>\n",
       "<style scoped>\n",
       "    .dataframe tbody tr th:only-of-type {\n",
       "        vertical-align: middle;\n",
       "    }\n",
       "\n",
       "    .dataframe tbody tr th {\n",
       "        vertical-align: top;\n",
       "    }\n",
       "\n",
       "    .dataframe thead th {\n",
       "        text-align: right;\n",
       "    }\n",
       "</style>\n",
       "<table border=\"1\" class=\"dataframe\">\n",
       "  <thead>\n",
       "    <tr style=\"text-align: right;\">\n",
       "      <th></th>\n",
       "      <th>v1</th>\n",
       "      <th>v2</th>\n",
       "      <th>Unnamed: 2</th>\n",
       "      <th>Unnamed: 3</th>\n",
       "      <th>Unnamed: 4</th>\n",
       "    </tr>\n",
       "  </thead>\n",
       "  <tbody>\n",
       "    <tr>\n",
       "      <th>0</th>\n",
       "      <td>ham</td>\n",
       "      <td>Go until jurong point, crazy.. Available only ...</td>\n",
       "      <td>NaN</td>\n",
       "      <td>NaN</td>\n",
       "      <td>NaN</td>\n",
       "    </tr>\n",
       "    <tr>\n",
       "      <th>1</th>\n",
       "      <td>ham</td>\n",
       "      <td>Ok lar... Joking wif u oni...</td>\n",
       "      <td>NaN</td>\n",
       "      <td>NaN</td>\n",
       "      <td>NaN</td>\n",
       "    </tr>\n",
       "    <tr>\n",
       "      <th>2</th>\n",
       "      <td>spam</td>\n",
       "      <td>Free entry in 2 a wkly comp to win FA Cup fina...</td>\n",
       "      <td>NaN</td>\n",
       "      <td>NaN</td>\n",
       "      <td>NaN</td>\n",
       "    </tr>\n",
       "    <tr>\n",
       "      <th>3</th>\n",
       "      <td>ham</td>\n",
       "      <td>U dun say so early hor... U c already then say...</td>\n",
       "      <td>NaN</td>\n",
       "      <td>NaN</td>\n",
       "      <td>NaN</td>\n",
       "    </tr>\n",
       "    <tr>\n",
       "      <th>4</th>\n",
       "      <td>ham</td>\n",
       "      <td>Nah I don't think he goes to usf, he lives aro...</td>\n",
       "      <td>NaN</td>\n",
       "      <td>NaN</td>\n",
       "      <td>NaN</td>\n",
       "    </tr>\n",
       "  </tbody>\n",
       "</table>\n",
       "</div>"
      ],
      "text/plain": [
       "     v1                                                 v2 Unnamed: 2  \\\n",
       "0   ham  Go until jurong point, crazy.. Available only ...        NaN   \n",
       "1   ham                      Ok lar... Joking wif u oni...        NaN   \n",
       "2  spam  Free entry in 2 a wkly comp to win FA Cup fina...        NaN   \n",
       "3   ham  U dun say so early hor... U c already then say...        NaN   \n",
       "4   ham  Nah I don't think he goes to usf, he lives aro...        NaN   \n",
       "\n",
       "  Unnamed: 3 Unnamed: 4  \n",
       "0        NaN        NaN  \n",
       "1        NaN        NaN  \n",
       "2        NaN        NaN  \n",
       "3        NaN        NaN  \n",
       "4        NaN        NaN  "
      ]
     },
     "execution_count": 418,
     "metadata": {},
     "output_type": "execute_result"
    }
   ],
   "source": [
    "df.head()"
   ]
  },
  {
   "cell_type": "code",
   "execution_count": 419,
   "metadata": {},
   "outputs": [
    {
     "data": {
      "text/html": [
       "<div>\n",
       "<style scoped>\n",
       "    .dataframe tbody tr th:only-of-type {\n",
       "        vertical-align: middle;\n",
       "    }\n",
       "\n",
       "    .dataframe tbody tr th {\n",
       "        vertical-align: top;\n",
       "    }\n",
       "\n",
       "    .dataframe thead th {\n",
       "        text-align: right;\n",
       "    }\n",
       "</style>\n",
       "<table border=\"1\" class=\"dataframe\">\n",
       "  <thead>\n",
       "    <tr style=\"text-align: right;\">\n",
       "      <th></th>\n",
       "      <th>v1</th>\n",
       "      <th>v2</th>\n",
       "    </tr>\n",
       "  </thead>\n",
       "  <tbody>\n",
       "    <tr>\n",
       "      <th>0</th>\n",
       "      <td>ham</td>\n",
       "      <td>Go until jurong point, crazy.. Available only ...</td>\n",
       "    </tr>\n",
       "    <tr>\n",
       "      <th>1</th>\n",
       "      <td>ham</td>\n",
       "      <td>Ok lar... Joking wif u oni...</td>\n",
       "    </tr>\n",
       "    <tr>\n",
       "      <th>2</th>\n",
       "      <td>spam</td>\n",
       "      <td>Free entry in 2 a wkly comp to win FA Cup fina...</td>\n",
       "    </tr>\n",
       "    <tr>\n",
       "      <th>3</th>\n",
       "      <td>ham</td>\n",
       "      <td>U dun say so early hor... U c already then say...</td>\n",
       "    </tr>\n",
       "    <tr>\n",
       "      <th>4</th>\n",
       "      <td>ham</td>\n",
       "      <td>Nah I don't think he goes to usf, he lives aro...</td>\n",
       "    </tr>\n",
       "  </tbody>\n",
       "</table>\n",
       "</div>"
      ],
      "text/plain": [
       "     v1                                                 v2\n",
       "0   ham  Go until jurong point, crazy.. Available only ...\n",
       "1   ham                      Ok lar... Joking wif u oni...\n",
       "2  spam  Free entry in 2 a wkly comp to win FA Cup fina...\n",
       "3   ham  U dun say so early hor... U c already then say...\n",
       "4   ham  Nah I don't think he goes to usf, he lives aro..."
      ]
     },
     "execution_count": 419,
     "metadata": {},
     "output_type": "execute_result"
    }
   ],
   "source": [
    "df.drop(df.iloc[:, 2:], axis=1, inplace=True)\n",
    "df.head()"
   ]
  },
  {
   "cell_type": "code",
   "execution_count": 420,
   "metadata": {},
   "outputs": [],
   "source": [
    "from sklearn.feature_extraction.text import CountVectorizer\n",
    "from sklearn.model_selection import train_test_split"
   ]
  },
  {
   "cell_type": "code",
   "execution_count": 421,
   "metadata": {},
   "outputs": [],
   "source": [
    "X = CountVectorizer().fit_transform(df[\"v2\"]).toarray()\n",
    "y = df[\"v1\"].factorize()[0]"
   ]
  },
  {
   "cell_type": "code",
   "execution_count": 422,
   "metadata": {},
   "outputs": [],
   "source": [
    "X_train, X_test, y_train, y_test = train_test_split(X, y, train_size=.9, random_state=1)"
   ]
  },
  {
   "cell_type": "code",
   "execution_count": 423,
   "metadata": {},
   "outputs": [],
   "source": [
    "from sklearn.naive_bayes import MultinomialNB"
   ]
  },
  {
   "cell_type": "code",
   "execution_count": 424,
   "metadata": {},
   "outputs": [],
   "source": [
    "mnb = MultinomialNB().fit(X_train, y_train)"
   ]
  },
  {
   "cell_type": "code",
   "execution_count": 425,
   "metadata": {},
   "outputs": [],
   "source": [
    "y_pred_mnb = mnb.predict(X_test)"
   ]
  },
  {
   "cell_type": "code",
   "execution_count": 426,
   "metadata": {},
   "outputs": [],
   "source": [
    "from sklearn.metrics import accuracy_score, confusion_matrix, ConfusionMatrixDisplay"
   ]
  },
  {
   "cell_type": "code",
   "execution_count": 427,
   "metadata": {},
   "outputs": [
    {
     "data": {
      "text/plain": [
       "0.974910394265233"
      ]
     },
     "execution_count": 427,
     "metadata": {},
     "output_type": "execute_result"
    }
   ],
   "source": [
    "accuracy_mnb = accuracy_score(y_test, y_pred_mnb)\n",
    "accuracy_mnb"
   ]
  },
  {
   "cell_type": "code",
   "execution_count": 428,
   "metadata": {},
   "outputs": [
    {
     "data": {
      "image/png": "[encoded data removed]",
      "text/plain": [
       "<Figure size 640x480 with 1 Axes>"
      ]
     },
     "metadata": {},
     "output_type": "display_data"
    }
   ],
   "source": [
    "disp = ConfusionMatrixDisplay(confusion_matrix=confusion_matrix(y_test, y_pred_mnb), display_labels=mnb.classes_.astype(int))\n",
    "disp.plot(values_format='d', colorbar=False)\n",
    "plt.title(f\"Confusion Matrix - Multinomial Naive Bayes model\\naccuracy: {accuracy_mnb:.2f}\", weight=\"bold\", fontsize=15)\n",
    "plt.grid(False)\n",
    "plt.show()"
   ]
  },
  {
   "cell_type": "code",
   "execution_count": 429,
   "metadata": {},
   "outputs": [
    {
     "data": {
      "image/png": "[encoded data removed]",
      "text/plain": [
       "<Figure size 640x480 with 2 Axes>"
      ]
     },
     "metadata": {},
     "output_type": "display_data"
    }
   ],
   "source": [
    "label_mapper = {0:\"ham\", 1:\"spam\"}\n",
    "grouped = pd.DataFrame(y_test).value_counts()\n",
    "\n",
    "fig, axes = plt.subplots(1, 2)\n",
    "\n",
    "sns.barplot(ax=axes[0], x=[label_mapper[grouped.index[0][0]], label_mapper[grouped.index[1][0]]], y=grouped.values)\n",
    "axes[0].bar_label(axes[0].containers[0])\n",
    "\n",
    "axes[1].pie(grouped.values, autopct=\"%.1f%%\", radius=1.5)\n",
    "fig.suptitle(\"Number of ham and spam emails in training set\", weight=\"bold\", fontsize=15)\n",
    "plt.show()"
   ]
  },
  {
   "cell_type": "code",
   "execution_count": 430,
   "metadata": {},
   "outputs": [
    {
     "data": {
      "image/png": "[encoded data removed]",
      "text/plain": [
       "<Figure size 640x480 with 2 Axes>"
      ]
     },
     "metadata": {},
     "output_type": "display_data"
    }
   ],
   "source": [
    "grouped = pd.DataFrame(y_pred_mnb).value_counts()\n",
    "\n",
    "fig, axes = plt.subplots(1, 2)\n",
    "\n",
    "sns.barplot(ax=axes[0], x=[label_mapper[grouped.index[0][0]], label_mapper[grouped.index[1][0]]], y=grouped.values)\n",
    "axes[0].bar_label(axes[0].containers[0])\n",
    "\n",
    "axes[1].pie(grouped.values, autopct=\"%.1f%%\", radius=1.5)\n",
    "fig.suptitle(\"Number of ham and spam emails after classification with MNB\", weight=\"bold\", fontsize=13)\n",
    "plt.show()"
   ]
  },
  {
   "cell_type": "code",
   "execution_count": 431,
   "metadata": {},
   "outputs": [
    {
     "name": "stdout",
     "output_type": "stream",
     "text": [
      "False positives:\n",
      "2418 Madam,regret disturbance.might receive a reference check from DLF Premarica.kindly be informed.Rgds,Rakhesh,Kerala.\n",
      "45 No calls..messages..missed calls\n",
      "4539 Urgh, coach hot, smells of chip fat! Thanks again, especially for the duvet (not a predictive text word).\n",
      "4598 Have you laid your airtel line to rest?\n",
      "4364 Ujhhhhhhh computer shipped out with address to sandiago and parantella lane. Wtf. Poop.\n",
      "5081 \\HI BABE UAWAKE?FEELLIKW SHIT.JUSTFOUND OUT VIA ALETTER THATMUM GOTMARRIED 4thNOV.BEHIND OURBACKS �� FUCKINNICE!SELFISH\n",
      "2569 Ultimately tor motive tui achieve korli.\n",
      "1289 Hey...Great deal...Farm tour 9am to 5pm $95/pax, $50 deposit by 16 May\n"
     ]
    }
   ],
   "source": [
    "print(\"False positives:\")\n",
    "fp = X_test[np.bitwise_and(y_test==0, y_pred_mnb==1)]\n",
    "fp_indexes = [np.where((X==row).all(axis=1))[0][0] for row in fp]\n",
    "fp_rows = df[\"v2\"].iloc[fp_indexes]\n",
    "for index, row in fp_rows.items():\n",
    "    print(index, row)"
   ]
  },
  {
   "cell_type": "code",
   "execution_count": 432,
   "metadata": {},
   "outputs": [
    {
     "name": "stdout",
     "output_type": "stream",
     "text": [
      "False negatives:\n",
      "4674 Hi babe its Chloe, how r u? I was smashed on saturday night, it was great! How was your weekend? U been missing me? SP visionsms.com Text stop to stop 150p/text\n",
      "3528 Xmas & New Years Eve tickets are now on sale from the club, during the day from 10am till 8pm, and on Thurs, Fri & Sat night this week. They're selling fast!\n",
      "3572 You won't believe it but it's true. It's Incredible Txts! Reply G now to learn truly amazing things that will blow your mind. From O2FWD only 18p/txt\n",
      "3417 LIFE has never been this much fun and great until you came in. You made it truly special for me. I won't forget you! enjoy @ one gbp/sms\n",
      "2773 How come it takes so little time for a child who is afraid of the dark to become a teenager who wants to stay out all night?\n",
      "5 FreeMsg Hey there darling it's been 3 week's now and no word back! I'd like some fun you up for it still? Tb ok! XxX std chgs to send, �1.50 to rcv\n"
     ]
    }
   ],
   "source": [
    "print(\"False negatives:\")\n",
    "fn= X_test[np.bitwise_and(y_test==1, y_pred_mnb==0)]\n",
    "fn_indexes = [np.where((X==row).all(axis=1))[0][0] for row in fn]\n",
    "fn_rows = df[\"v2\"].iloc[fn_indexes]\n",
    "for index, row in fn_rows.items():\n",
    "    print(index, row)"
   ]
  },
  {
   "cell_type": "markdown",
   "metadata": {},
   "source": [
    "# Zadanie dodatkowe"
   ]
  },
  {
   "cell_type": "code",
   "execution_count": 433,
   "metadata": {},
   "outputs": [],
   "source": [
    "spam_probabilities = {\n",
    "    \"xxx\": .9,\n",
    "    \"bitcoin\": .8\n",
    "}"
   ]
  },
  {
   "cell_type": "code",
   "execution_count": 434,
   "metadata": {},
   "outputs": [],
   "source": [
    "def decide_spam_ham(email, aprior_spam, apriori_ham, spam_probabilities):\n",
    "    bag_of_words = email.split(' ')\n",
    "    spam = aprior_spam\n",
    "    ham = apriori_ham\n",
    "    \n",
    "    for word in bag_of_words:\n",
    "        spam *= spam_probabilities[word] if word in list(spam_probabilities.keys()) else 1\n",
    "        ham *= 1-spam_probabilities[word] if word in list(spam_probabilities.keys()) else 1\n",
    "    \n",
    "    print(f\"Spam probability of your mail: {spam:.2f}\\nHam probability of your mail: {ham:.2f}\")"
   ]
  },
  {
   "cell_type": "code",
   "execution_count": 435,
   "metadata": {},
   "outputs": [
    {
     "name": "stdout",
     "output_type": "stream",
     "text": [
      "Spam probability of your mail: 0.36\n",
      "Ham probability of your mail: 0.01\n"
     ]
    }
   ],
   "source": [
    "decide_spam_ham(email=\"give me bitcoin for xxx\", aprior_spam=.5, apriori_ham=.5, spam_probabilities=spam_probabilities)"
   ]
  },
  {
   "cell_type": "markdown",
   "metadata": {},
   "source": [
    "# Zadanie BONUS"
   ]
  },
  {
   "cell_type": "code",
   "execution_count": 436,
   "metadata": {},
   "outputs": [
    {
     "data": {
      "text/html": [
       "<div>\n",
       "<style scoped>\n",
       "    .dataframe tbody tr th:only-of-type {\n",
       "        vertical-align: middle;\n",
       "    }\n",
       "\n",
       "    .dataframe tbody tr th {\n",
       "        vertical-align: top;\n",
       "    }\n",
       "\n",
       "    .dataframe thead th {\n",
       "        text-align: right;\n",
       "    }\n",
       "</style>\n",
       "<table border=\"1\" class=\"dataframe\">\n",
       "  <thead>\n",
       "    <tr style=\"text-align: right;\">\n",
       "      <th></th>\n",
       "      <th>wojewodztwo</th>\n",
       "      <th>miasto</th>\n",
       "      <th>szerokosc</th>\n",
       "      <th>dlugosc</th>\n",
       "      <th>partia</th>\n",
       "    </tr>\n",
       "  </thead>\n",
       "  <tbody>\n",
       "    <tr>\n",
       "      <th>0</th>\n",
       "      <td>dolnoslaskie</td>\n",
       "      <td>Wrocław</td>\n",
       "      <td>51.11</td>\n",
       "      <td>17.04</td>\n",
       "      <td>0</td>\n",
       "    </tr>\n",
       "    <tr>\n",
       "      <th>1</th>\n",
       "      <td>kujawsko_pomorskie</td>\n",
       "      <td>Bydgoszcz</td>\n",
       "      <td>53.12</td>\n",
       "      <td>18.00</td>\n",
       "      <td>1</td>\n",
       "    </tr>\n",
       "    <tr>\n",
       "      <th>2</th>\n",
       "      <td>lubelskie</td>\n",
       "      <td>Lublin</td>\n",
       "      <td>51.25</td>\n",
       "      <td>22.57</td>\n",
       "      <td>1</td>\n",
       "    </tr>\n",
       "    <tr>\n",
       "      <th>3</th>\n",
       "      <td>lubuskie</td>\n",
       "      <td>Zielona Góra</td>\n",
       "      <td>51.94</td>\n",
       "      <td>15.51</td>\n",
       "      <td>0</td>\n",
       "    </tr>\n",
       "    <tr>\n",
       "      <th>4</th>\n",
       "      <td>lodzkie</td>\n",
       "      <td>Łódź</td>\n",
       "      <td>51.76</td>\n",
       "      <td>19.45</td>\n",
       "      <td>1</td>\n",
       "    </tr>\n",
       "    <tr>\n",
       "      <th>5</th>\n",
       "      <td>malopolskie</td>\n",
       "      <td>Kraków</td>\n",
       "      <td>50.06</td>\n",
       "      <td>19.94</td>\n",
       "      <td>1</td>\n",
       "    </tr>\n",
       "    <tr>\n",
       "      <th>6</th>\n",
       "      <td>mazowieckie</td>\n",
       "      <td>Warszawa</td>\n",
       "      <td>52.23</td>\n",
       "      <td>21.01</td>\n",
       "      <td>1</td>\n",
       "    </tr>\n",
       "    <tr>\n",
       "      <th>7</th>\n",
       "      <td>opolskie</td>\n",
       "      <td>Opole</td>\n",
       "      <td>50.68</td>\n",
       "      <td>17.92</td>\n",
       "      <td>0</td>\n",
       "    </tr>\n",
       "    <tr>\n",
       "      <th>8</th>\n",
       "      <td>podkarpackie</td>\n",
       "      <td>Rzeszów</td>\n",
       "      <td>50.04</td>\n",
       "      <td>21.99</td>\n",
       "      <td>1</td>\n",
       "    </tr>\n",
       "    <tr>\n",
       "      <th>9</th>\n",
       "      <td>podlaskie</td>\n",
       "      <td>Białystok</td>\n",
       "      <td>53.13</td>\n",
       "      <td>23.17</td>\n",
       "      <td>1</td>\n",
       "    </tr>\n",
       "    <tr>\n",
       "      <th>10</th>\n",
       "      <td>pomorskie</td>\n",
       "      <td>Gdańsk</td>\n",
       "      <td>54.35</td>\n",
       "      <td>18.65</td>\n",
       "      <td>0</td>\n",
       "    </tr>\n",
       "    <tr>\n",
       "      <th>11</th>\n",
       "      <td>slaskie</td>\n",
       "      <td>Katowice</td>\n",
       "      <td>50.26</td>\n",
       "      <td>19.02</td>\n",
       "      <td>0</td>\n",
       "    </tr>\n",
       "    <tr>\n",
       "      <th>12</th>\n",
       "      <td>swietokrzyskie</td>\n",
       "      <td>Kielce</td>\n",
       "      <td>50.87</td>\n",
       "      <td>20.63</td>\n",
       "      <td>1</td>\n",
       "    </tr>\n",
       "    <tr>\n",
       "      <th>13</th>\n",
       "      <td>warminsko_mazurskie</td>\n",
       "      <td>Olsztyn</td>\n",
       "      <td>53.78</td>\n",
       "      <td>20.48</td>\n",
       "      <td>1</td>\n",
       "    </tr>\n",
       "    <tr>\n",
       "      <th>14</th>\n",
       "      <td>wielkopolskie</td>\n",
       "      <td>Poznań</td>\n",
       "      <td>52.41</td>\n",
       "      <td>16.93</td>\n",
       "      <td>0</td>\n",
       "    </tr>\n",
       "    <tr>\n",
       "      <th>15</th>\n",
       "      <td>zachodniopomorskie</td>\n",
       "      <td>Szczecin</td>\n",
       "      <td>53.43</td>\n",
       "      <td>14.55</td>\n",
       "      <td>0</td>\n",
       "    </tr>\n",
       "  </tbody>\n",
       "</table>\n",
       "</div>"
      ],
      "text/plain": [
       "            wojewodztwo        miasto  szerokosc  dlugosc  partia\n",
       "0          dolnoslaskie       Wrocław      51.11    17.04       0\n",
       "1    kujawsko_pomorskie     Bydgoszcz      53.12    18.00       1\n",
       "2             lubelskie        Lublin      51.25    22.57       1\n",
       "3              lubuskie  Zielona Góra      51.94    15.51       0\n",
       "4               lodzkie          Łódź      51.76    19.45       1\n",
       "5           malopolskie        Kraków      50.06    19.94       1\n",
       "6           mazowieckie      Warszawa      52.23    21.01       1\n",
       "7              opolskie         Opole      50.68    17.92       0\n",
       "8          podkarpackie       Rzeszów      50.04    21.99       1\n",
       "9             podlaskie     Białystok      53.13    23.17       1\n",
       "10            pomorskie        Gdańsk      54.35    18.65       0\n",
       "11              slaskie      Katowice      50.26    19.02       0\n",
       "12       swietokrzyskie        Kielce      50.87    20.63       1\n",
       "13  warminsko_mazurskie       Olsztyn      53.78    20.48       1\n",
       "14        wielkopolskie        Poznań      52.41    16.93       0\n",
       "15   zachodniopomorskie      Szczecin      53.43    14.55       0"
      ]
     },
     "execution_count": 436,
     "metadata": {},
     "output_type": "execute_result"
    }
   ],
   "source": [
    "poll_full = pd.read_csv(\"exitpoll.csv\")\n",
    "poll_full[\"partia\"] = poll_full[\"partia\"].factorize()[0]\n",
    "poll_full"
   ]
  },
  {
   "cell_type": "code",
   "execution_count": 438,
   "metadata": {},
   "outputs": [
    {
     "data": {
      "text/html": [
       "<div>\n",
       "<style scoped>\n",
       "    .dataframe tbody tr th:only-of-type {\n",
       "        vertical-align: middle;\n",
       "    }\n",
       "\n",
       "    .dataframe tbody tr th {\n",
       "        vertical-align: top;\n",
       "    }\n",
       "\n",
       "    .dataframe thead th {\n",
       "        text-align: right;\n",
       "    }\n",
       "</style>\n",
       "<table border=\"1\" class=\"dataframe\">\n",
       "  <thead>\n",
       "    <tr style=\"text-align: right;\">\n",
       "      <th></th>\n",
       "      <th>wojewodztwo</th>\n",
       "      <th>miasto</th>\n",
       "      <th>szerokosc</th>\n",
       "      <th>dlugosc</th>\n",
       "      <th>partia</th>\n",
       "    </tr>\n",
       "  </thead>\n",
       "  <tbody>\n",
       "    <tr>\n",
       "      <th>1</th>\n",
       "      <td>kujawsko_pomorskie</td>\n",
       "      <td>Bydgoszcz</td>\n",
       "      <td>53.12</td>\n",
       "      <td>18.00</td>\n",
       "      <td>1</td>\n",
       "    </tr>\n",
       "    <tr>\n",
       "      <th>3</th>\n",
       "      <td>lubuskie</td>\n",
       "      <td>Zielona Góra</td>\n",
       "      <td>51.94</td>\n",
       "      <td>15.51</td>\n",
       "      <td>0</td>\n",
       "    </tr>\n",
       "    <tr>\n",
       "      <th>4</th>\n",
       "      <td>lodzkie</td>\n",
       "      <td>Łódź</td>\n",
       "      <td>51.76</td>\n",
       "      <td>19.45</td>\n",
       "      <td>1</td>\n",
       "    </tr>\n",
       "    <tr>\n",
       "      <th>5</th>\n",
       "      <td>malopolskie</td>\n",
       "      <td>Kraków</td>\n",
       "      <td>50.06</td>\n",
       "      <td>19.94</td>\n",
       "      <td>1</td>\n",
       "    </tr>\n",
       "    <tr>\n",
       "      <th>6</th>\n",
       "      <td>mazowieckie</td>\n",
       "      <td>Warszawa</td>\n",
       "      <td>52.23</td>\n",
       "      <td>21.01</td>\n",
       "      <td>1</td>\n",
       "    </tr>\n",
       "    <tr>\n",
       "      <th>7</th>\n",
       "      <td>opolskie</td>\n",
       "      <td>Opole</td>\n",
       "      <td>50.68</td>\n",
       "      <td>17.92</td>\n",
       "      <td>0</td>\n",
       "    </tr>\n",
       "    <tr>\n",
       "      <th>8</th>\n",
       "      <td>podkarpackie</td>\n",
       "      <td>Rzeszów</td>\n",
       "      <td>50.04</td>\n",
       "      <td>21.99</td>\n",
       "      <td>1</td>\n",
       "    </tr>\n",
       "    <tr>\n",
       "      <th>9</th>\n",
       "      <td>podlaskie</td>\n",
       "      <td>Białystok</td>\n",
       "      <td>53.13</td>\n",
       "      <td>23.17</td>\n",
       "      <td>1</td>\n",
       "    </tr>\n",
       "    <tr>\n",
       "      <th>10</th>\n",
       "      <td>pomorskie</td>\n",
       "      <td>Gdańsk</td>\n",
       "      <td>54.35</td>\n",
       "      <td>18.65</td>\n",
       "      <td>0</td>\n",
       "    </tr>\n",
       "    <tr>\n",
       "      <th>12</th>\n",
       "      <td>swietokrzyskie</td>\n",
       "      <td>Kielce</td>\n",
       "      <td>50.87</td>\n",
       "      <td>20.63</td>\n",
       "      <td>1</td>\n",
       "    </tr>\n",
       "    <tr>\n",
       "      <th>13</th>\n",
       "      <td>warminsko_mazurskie</td>\n",
       "      <td>Olsztyn</td>\n",
       "      <td>53.78</td>\n",
       "      <td>20.48</td>\n",
       "      <td>1</td>\n",
       "    </tr>\n",
       "    <tr>\n",
       "      <th>14</th>\n",
       "      <td>wielkopolskie</td>\n",
       "      <td>Poznań</td>\n",
       "      <td>52.41</td>\n",
       "      <td>16.93</td>\n",
       "      <td>0</td>\n",
       "    </tr>\n",
       "    <tr>\n",
       "      <th>15</th>\n",
       "      <td>zachodniopomorskie</td>\n",
       "      <td>Szczecin</td>\n",
       "      <td>53.43</td>\n",
       "      <td>14.55</td>\n",
       "      <td>0</td>\n",
       "    </tr>\n",
       "  </tbody>\n",
       "</table>\n",
       "</div>"
      ],
      "text/plain": [
       "            wojewodztwo        miasto  szerokosc  dlugosc  partia\n",
       "1    kujawsko_pomorskie     Bydgoszcz      53.12    18.00       1\n",
       "3              lubuskie  Zielona Góra      51.94    15.51       0\n",
       "4               lodzkie          Łódź      51.76    19.45       1\n",
       "5           malopolskie        Kraków      50.06    19.94       1\n",
       "6           mazowieckie      Warszawa      52.23    21.01       1\n",
       "7              opolskie         Opole      50.68    17.92       0\n",
       "8          podkarpackie       Rzeszów      50.04    21.99       1\n",
       "9             podlaskie     Białystok      53.13    23.17       1\n",
       "10            pomorskie        Gdańsk      54.35    18.65       0\n",
       "12       swietokrzyskie        Kielce      50.87    20.63       1\n",
       "13  warminsko_mazurskie       Olsztyn      53.78    20.48       1\n",
       "14        wielkopolskie        Poznań      52.41    16.93       0\n",
       "15   zachodniopomorskie      Szczecin      53.43    14.55       0"
      ]
     },
     "execution_count": 438,
     "metadata": {},
     "output_type": "execute_result"
    }
   ],
   "source": [
    "poll = poll_full.query(\"wojewodztwo not in ('dolnoslaskie', 'lubelskie', 'slaskie')\")\n",
    "poll"
   ]
  },
  {
   "cell_type": "code",
   "execution_count": 439,
   "metadata": {},
   "outputs": [],
   "source": [
    "new_records = poll_full.query(\"wojewodztwo in ('dolnoslaskie', 'lubelskie', 'slaskie')\")"
   ]
  },
  {
   "cell_type": "code",
   "execution_count": 440,
   "metadata": {},
   "outputs": [],
   "source": [
    "from sklearn.neighbors import KNeighborsClassifier"
   ]
  },
  {
   "cell_type": "code",
   "execution_count": 441,
   "metadata": {},
   "outputs": [
    {
     "data": {
      "text/html": [
       "<div>\n",
       "<style scoped>\n",
       "    .dataframe tbody tr th:only-of-type {\n",
       "        vertical-align: middle;\n",
       "    }\n",
       "\n",
       "    .dataframe tbody tr th {\n",
       "        vertical-align: top;\n",
       "    }\n",
       "\n",
       "    .dataframe thead th {\n",
       "        text-align: right;\n",
       "    }\n",
       "</style>\n",
       "<table border=\"1\" class=\"dataframe\">\n",
       "  <thead>\n",
       "    <tr style=\"text-align: right;\">\n",
       "      <th></th>\n",
       "      <th>wojewodztwo</th>\n",
       "      <th>miasto</th>\n",
       "      <th>szerokosc</th>\n",
       "      <th>dlugosc</th>\n",
       "      <th>partia</th>\n",
       "    </tr>\n",
       "  </thead>\n",
       "  <tbody>\n",
       "    <tr>\n",
       "      <th>0</th>\n",
       "      <td>dolnoslaskie</td>\n",
       "      <td>Wrocław</td>\n",
       "      <td>51.11</td>\n",
       "      <td>17.04</td>\n",
       "      <td>0</td>\n",
       "    </tr>\n",
       "    <tr>\n",
       "      <th>2</th>\n",
       "      <td>lubelskie</td>\n",
       "      <td>Lublin</td>\n",
       "      <td>51.25</td>\n",
       "      <td>22.57</td>\n",
       "      <td>1</td>\n",
       "    </tr>\n",
       "    <tr>\n",
       "      <th>11</th>\n",
       "      <td>slaskie</td>\n",
       "      <td>Katowice</td>\n",
       "      <td>50.26</td>\n",
       "      <td>19.02</td>\n",
       "      <td>0</td>\n",
       "    </tr>\n",
       "  </tbody>\n",
       "</table>\n",
       "</div>"
      ],
      "text/plain": [
       "     wojewodztwo    miasto  szerokosc  dlugosc  partia\n",
       "0   dolnoslaskie   Wrocław      51.11    17.04       0\n",
       "2      lubelskie    Lublin      51.25    22.57       1\n",
       "11       slaskie  Katowice      50.26    19.02       0"
      ]
     },
     "execution_count": 441,
     "metadata": {},
     "output_type": "execute_result"
    }
   ],
   "source": [
    "X = poll.iloc[:, 2:4]\n",
    "y = poll[\"partia\"]\n",
    "\n",
    "new_records"
   ]
  },
  {
   "cell_type": "code",
   "execution_count": 446,
   "metadata": {},
   "outputs": [],
   "source": [
    "knn_3 = KNeighborsClassifier(n_neighbors=3).fit(X, y)"
   ]
  },
  {
   "cell_type": "code",
   "execution_count": 447,
   "metadata": {},
   "outputs": [],
   "source": [
    "new_records[\"predicted\"] = knn_3.predict(np.array(new_records.iloc[:, 2:4]))\n",
    "\n",
    "new_records_predicted_pis = new_records[new_records[\"predicted\"]==1]\n",
    "new_records_predicted_po = new_records[new_records[\"predicted\"]==0]"
   ]
  },
  {
   "cell_type": "code",
   "execution_count": 450,
   "metadata": {},
   "outputs": [
    {
     "data": {
      "image/png": "[encoded data removed]",
      "text/plain": [
       "<Figure size 1300x500 with 2 Axes>"
      ]
     },
     "metadata": {},
     "output_type": "display_data"
    }
   ],
   "source": [
    "fig, axes = plt.subplots(1, 2, figsize=(13, 5))\n",
    "\n",
    "axes[0].scatter(x=poll_full[\"dlugosc\"], y=poll_full[\"szerokosc\"], c=np.where(poll_full[\"partia\"]==1, \"blue\", \"red\"))\n",
    "axes[0].set_title(\"Jak jest\")\n",
    "\n",
    "axes[1].scatter(x=poll[\"dlugosc\"], y=poll[\"szerokosc\"], c=np.where(poll[\"partia\"]==1, \"blue\", \"red\"))\n",
    "axes[1].scatter(x=new_records_predicted_pis[\"dlugosc\"], y=new_records_predicted_pis[\"szerokosc\"], facecolors='none', edgecolors=\"blue\")\n",
    "axes[1].scatter(x=new_records_predicted_po[\"dlugosc\"], y=new_records_predicted_po[\"szerokosc\"], facecolors='none', edgecolors=\"red\")\n",
    "axes[1].set_title(\"Jak przewidziało KNN\")\n",
    "\n",
    "fig.suptitle(\"K=3\", weight=\"bold\", fontsize=20)\n",
    "plt.show()"
   ]
  },
  {
   "cell_type": "markdown",
   "metadata": {},
   "source": [
    "Dla `k=10` wychodzi tak samo, slask dostaje po dupie bo jest blizej pisiorów"
   ]
  },
  {
   "cell_type": "markdown",
   "metadata": {},
   "source": [
    "Jak zmienimy na skrajne to będzie git bo wszyscy sąsiedzi będą jednomyślni."
   ]
  },
  {
   "cell_type": "markdown",
   "metadata": {},
   "source": [
    "Gdyby nie było Polski \"A\" i \"B\" takie przewidywanie pewnie miałoby sens, skoro zakładamy ze glosujemy jak sąsiedzi, w koncu to jest doslowna definicja KNN, ale wtedy polozenie na mapie nie mialoby wplywu na wynik, bo sasiedzi glosowaliby tak jakby losowo"
   ]
  },
  {
   "cell_type": "markdown",
   "metadata": {},
   "source": [
    "W sumie nie wiem jakie dane pozwola na przewidywanie wynikow, warto zapytac"
   ]
  },
  {
   "cell_type": "markdown",
   "metadata": {},
   "source": [
    "Pewnie by sie dalo, wygralby duda bo pis ma wiecej wojewodztw"
   ]
  },
  {
   "cell_type": "markdown",
   "metadata": {},
   "source": []
  }
 ],
 "metadata": {
  "kernelspec": {
   "display_name": "portfolio",
   "language": "python",
   "name": "python3"
  },
  "language_info": {
   "codemirror_mode": {
    "name": "ipython",
    "version": 3
   },
   "file_extension": ".py",
   "mimetype": "text/x-python",
   "name": "python",
   "nbconvert_exporter": "python",
   "pygments_lexer": "ipython3",
   "version": "3.11.4"
  }
 },
 "nbformat": 4,
 "nbformat_minor": 2
}
