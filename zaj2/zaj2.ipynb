{
 "cells": [
  {
   "cell_type": "code",
   "execution_count": 1,
   "metadata": {},
   "outputs": [],
   "source": [
    "import pandas as pd\n",
    "import numpy as np\n",
    "import matplotlib.pyplot as plt"
   ]
  },
  {
   "cell_type": "markdown",
   "metadata": {},
   "source": [
    "# __Zadanie 1__"
   ]
  },
  {
   "cell_type": "code",
   "execution_count": 2,
   "metadata": {},
   "outputs": [
    {
     "data": {
      "text/html": [
       "<div>\n",
       "<style scoped>\n",
       "    .dataframe tbody tr th:only-of-type {\n",
       "        vertical-align: middle;\n",
       "    }\n",
       "\n",
       "    .dataframe tbody tr th {\n",
       "        vertical-align: top;\n",
       "    }\n",
       "\n",
       "    .dataframe thead th {\n",
       "        text-align: right;\n",
       "    }\n",
       "</style>\n",
       "<table border=\"1\" class=\"dataframe\">\n",
       "  <thead>\n",
       "    <tr style=\"text-align: right;\">\n",
       "      <th></th>\n",
       "      <th>set_num</th>\n",
       "      <th>name</th>\n",
       "      <th>year</th>\n",
       "      <th>theme_id</th>\n",
       "      <th>num_parts</th>\n",
       "      <th>img_url</th>\n",
       "    </tr>\n",
       "  </thead>\n",
       "  <tbody>\n",
       "    <tr>\n",
       "      <th>0</th>\n",
       "      <td>001-1</td>\n",
       "      <td>Gears</td>\n",
       "      <td>1965</td>\n",
       "      <td>1</td>\n",
       "      <td>43</td>\n",
       "      <td>https://cdn.rebrickable.com/media/sets/001-1.jpg</td>\n",
       "    </tr>\n",
       "    <tr>\n",
       "      <th>1</th>\n",
       "      <td>0011-2</td>\n",
       "      <td>Town Mini-Figures</td>\n",
       "      <td>1979</td>\n",
       "      <td>67</td>\n",
       "      <td>12</td>\n",
       "      <td>https://cdn.rebrickable.com/media/sets/0011-2.jpg</td>\n",
       "    </tr>\n",
       "    <tr>\n",
       "      <th>2</th>\n",
       "      <td>0011-3</td>\n",
       "      <td>Castle 2 for 1 Bonus Offer</td>\n",
       "      <td>1987</td>\n",
       "      <td>199</td>\n",
       "      <td>0</td>\n",
       "      <td>https://cdn.rebrickable.com/media/sets/0011-3.jpg</td>\n",
       "    </tr>\n",
       "    <tr>\n",
       "      <th>3</th>\n",
       "      <td>0012-1</td>\n",
       "      <td>Space Mini-Figures</td>\n",
       "      <td>1979</td>\n",
       "      <td>143</td>\n",
       "      <td>12</td>\n",
       "      <td>https://cdn.rebrickable.com/media/sets/0012-1.jpg</td>\n",
       "    </tr>\n",
       "    <tr>\n",
       "      <th>4</th>\n",
       "      <td>0013-1</td>\n",
       "      <td>Space Mini-Figures</td>\n",
       "      <td>1979</td>\n",
       "      <td>143</td>\n",
       "      <td>12</td>\n",
       "      <td>https://cdn.rebrickable.com/media/sets/0013-1.jpg</td>\n",
       "    </tr>\n",
       "    <tr>\n",
       "      <th>5</th>\n",
       "      <td>0014-1</td>\n",
       "      <td>Space Mini-Figures</td>\n",
       "      <td>1979</td>\n",
       "      <td>143</td>\n",
       "      <td>2</td>\n",
       "      <td>https://cdn.rebrickable.com/media/sets/0014-1.jpg</td>\n",
       "    </tr>\n",
       "    <tr>\n",
       "      <th>6</th>\n",
       "      <td>0015-1</td>\n",
       "      <td>Space Mini-Figures</td>\n",
       "      <td>1979</td>\n",
       "      <td>143</td>\n",
       "      <td>18</td>\n",
       "      <td>https://cdn.rebrickable.com/media/sets/0015-1.jpg</td>\n",
       "    </tr>\n",
       "    <tr>\n",
       "      <th>7</th>\n",
       "      <td>0016-1</td>\n",
       "      <td>Castle Mini Figures</td>\n",
       "      <td>1979</td>\n",
       "      <td>189</td>\n",
       "      <td>15</td>\n",
       "      <td>https://cdn.rebrickable.com/media/sets/0016-1.jpg</td>\n",
       "    </tr>\n",
       "    <tr>\n",
       "      <th>8</th>\n",
       "      <td>002-1</td>\n",
       "      <td>4.5V Samsonite Gears Motor Set</td>\n",
       "      <td>1965</td>\n",
       "      <td>1</td>\n",
       "      <td>3</td>\n",
       "      <td>https://cdn.rebrickable.com/media/sets/002-1.jpg</td>\n",
       "    </tr>\n",
       "    <tr>\n",
       "      <th>9</th>\n",
       "      <td>002253963-1</td>\n",
       "      <td>Legend of Chima: Corbeaux et Gorilles</td>\n",
       "      <td>2013</td>\n",
       "      <td>497</td>\n",
       "      <td>4</td>\n",
       "      <td>https://cdn.rebrickable.com/media/sets/0022539...</td>\n",
       "    </tr>\n",
       "  </tbody>\n",
       "</table>\n",
       "</div>"
      ],
      "text/plain": [
       "       set_num                                   name  year  theme_id  \\\n",
       "0        001-1                                  Gears  1965         1   \n",
       "1       0011-2                      Town Mini-Figures  1979        67   \n",
       "2       0011-3             Castle 2 for 1 Bonus Offer  1987       199   \n",
       "3       0012-1                     Space Mini-Figures  1979       143   \n",
       "4       0013-1                     Space Mini-Figures  1979       143   \n",
       "5       0014-1                     Space Mini-Figures  1979       143   \n",
       "6       0015-1                     Space Mini-Figures  1979       143   \n",
       "7       0016-1                    Castle Mini Figures  1979       189   \n",
       "8        002-1         4.5V Samsonite Gears Motor Set  1965         1   \n",
       "9  002253963-1  Legend of Chima: Corbeaux et Gorilles  2013       497   \n",
       "\n",
       "   num_parts                                            img_url  \n",
       "0         43   https://cdn.rebrickable.com/media/sets/001-1.jpg  \n",
       "1         12  https://cdn.rebrickable.com/media/sets/0011-2.jpg  \n",
       "2          0  https://cdn.rebrickable.com/media/sets/0011-3.jpg  \n",
       "3         12  https://cdn.rebrickable.com/media/sets/0012-1.jpg  \n",
       "4         12  https://cdn.rebrickable.com/media/sets/0013-1.jpg  \n",
       "5          2  https://cdn.rebrickable.com/media/sets/0014-1.jpg  \n",
       "6         18  https://cdn.rebrickable.com/media/sets/0015-1.jpg  \n",
       "7         15  https://cdn.rebrickable.com/media/sets/0016-1.jpg  \n",
       "8          3   https://cdn.rebrickable.com/media/sets/002-1.jpg  \n",
       "9          4  https://cdn.rebrickable.com/media/sets/0022539...  "
      ]
     },
     "execution_count": 2,
     "metadata": {},
     "output_type": "execute_result"
    }
   ],
   "source": [
    "sets = pd.read_csv(\"/Users/stawager/Studia/s5/modelowanie_w_data_mining/zaj2/sets.csv\")\n",
    "sets.head(10)"
   ]
  },
  {
   "cell_type": "markdown",
   "metadata": {},
   "source": [
    "# __Zadanie 2__"
   ]
  },
  {
   "cell_type": "code",
   "execution_count": 3,
   "metadata": {},
   "outputs": [
    {
     "data": {
      "text/plain": [
       "21873"
      ]
     },
     "execution_count": 3,
     "metadata": {},
     "output_type": "execute_result"
    }
   ],
   "source": [
    "sets.shape[0]"
   ]
  },
  {
   "cell_type": "code",
   "execution_count": 4,
   "metadata": {},
   "outputs": [
    {
     "name": "stdout",
     "output_type": "stream",
     "text": [
      "<class 'pandas.core.frame.DataFrame'>\n",
      "RangeIndex: 21873 entries, 0 to 21872\n",
      "Data columns (total 6 columns):\n",
      " #   Column     Non-Null Count  Dtype \n",
      "---  ------     --------------  ----- \n",
      " 0   set_num    21873 non-null  object\n",
      " 1   name       21873 non-null  object\n",
      " 2   year       21873 non-null  int64 \n",
      " 3   theme_id   21873 non-null  int64 \n",
      " 4   num_parts  21873 non-null  int64 \n",
      " 5   img_url    21873 non-null  object\n",
      "dtypes: int64(3), object(3)\n",
      "memory usage: 1.0+ MB\n"
     ]
    }
   ],
   "source": [
    "sets.info()"
   ]
  },
  {
   "cell_type": "markdown",
   "metadata": {},
   "source": [
    "# __Zadanie 3__"
   ]
  },
  {
   "cell_type": "code",
   "execution_count": 5,
   "metadata": {},
   "outputs": [
    {
     "data": {
      "text/plain": [
       "0                                    Gears\n",
       "1                        Town Mini-Figures\n",
       "2               Castle 2 for 1 Bonus Offer\n",
       "3                       Space Mini-Figures\n",
       "4                       Space Mini-Figures\n",
       "5                       Space Mini-Figures\n",
       "6                       Space Mini-Figures\n",
       "7                      Castle Mini Figures\n",
       "8           4.5V Samsonite Gears Motor Set\n",
       "9    Legend of Chima: Corbeaux et Gorilles\n",
       "Name: name, dtype: object"
      ]
     },
     "execution_count": 5,
     "metadata": {},
     "output_type": "execute_result"
    }
   ],
   "source": [
    "sets[\"name\"].head(10)"
   ]
  },
  {
   "cell_type": "markdown",
   "metadata": {},
   "source": [
    "# __Zadanie 4__"
   ]
  },
  {
   "cell_type": "code",
   "execution_count": 6,
   "metadata": {},
   "outputs": [
    {
     "data": {
      "text/plain": [
       "1949"
      ]
     },
     "execution_count": 6,
     "metadata": {},
     "output_type": "execute_result"
    }
   ],
   "source": [
    "sets[\"year\"].min()"
   ]
  },
  {
   "cell_type": "code",
   "execution_count": 7,
   "metadata": {},
   "outputs": [
    {
     "data": {
      "text/plain": [
       "2024"
      ]
     },
     "execution_count": 7,
     "metadata": {},
     "output_type": "execute_result"
    }
   ],
   "source": [
    "sets[\"year\"].max()"
   ]
  },
  {
   "cell_type": "markdown",
   "metadata": {},
   "source": [
    "# __Zadanie 5__"
   ]
  },
  {
   "cell_type": "code",
   "execution_count": 8,
   "metadata": {},
   "outputs": [
    {
     "data": {
      "text/html": [
       "<div>\n",
       "<style scoped>\n",
       "    .dataframe tbody tr th:only-of-type {\n",
       "        vertical-align: middle;\n",
       "    }\n",
       "\n",
       "    .dataframe tbody tr th {\n",
       "        vertical-align: top;\n",
       "    }\n",
       "\n",
       "    .dataframe thead th {\n",
       "        text-align: right;\n",
       "    }\n",
       "</style>\n",
       "<table border=\"1\" class=\"dataframe\">\n",
       "  <thead>\n",
       "    <tr style=\"text-align: right;\">\n",
       "      <th></th>\n",
       "      <th>set_num</th>\n",
       "      <th>name</th>\n",
       "      <th>year</th>\n",
       "      <th>theme_id</th>\n",
       "      <th>num_parts</th>\n",
       "      <th>img_url</th>\n",
       "    </tr>\n",
       "  </thead>\n",
       "  <tbody>\n",
       "    <tr>\n",
       "      <th>0</th>\n",
       "      <td>001-1</td>\n",
       "      <td>Gears</td>\n",
       "      <td>1965</td>\n",
       "      <td>1</td>\n",
       "      <td>43</td>\n",
       "      <td>https://cdn.rebrickable.com/media/sets/001-1.jpg</td>\n",
       "    </tr>\n",
       "    <tr>\n",
       "      <th>1</th>\n",
       "      <td>0011-2</td>\n",
       "      <td>Town Mini-Figures</td>\n",
       "      <td>1979</td>\n",
       "      <td>67</td>\n",
       "      <td>12</td>\n",
       "      <td>https://cdn.rebrickable.com/media/sets/0011-2.jpg</td>\n",
       "    </tr>\n",
       "    <tr>\n",
       "      <th>3</th>\n",
       "      <td>0012-1</td>\n",
       "      <td>Space Mini-Figures</td>\n",
       "      <td>1979</td>\n",
       "      <td>143</td>\n",
       "      <td>12</td>\n",
       "      <td>https://cdn.rebrickable.com/media/sets/0012-1.jpg</td>\n",
       "    </tr>\n",
       "    <tr>\n",
       "      <th>4</th>\n",
       "      <td>0013-1</td>\n",
       "      <td>Space Mini-Figures</td>\n",
       "      <td>1979</td>\n",
       "      <td>143</td>\n",
       "      <td>12</td>\n",
       "      <td>https://cdn.rebrickable.com/media/sets/0013-1.jpg</td>\n",
       "    </tr>\n",
       "    <tr>\n",
       "      <th>5</th>\n",
       "      <td>0014-1</td>\n",
       "      <td>Space Mini-Figures</td>\n",
       "      <td>1979</td>\n",
       "      <td>143</td>\n",
       "      <td>2</td>\n",
       "      <td>https://cdn.rebrickable.com/media/sets/0014-1.jpg</td>\n",
       "    </tr>\n",
       "    <tr>\n",
       "      <th>6</th>\n",
       "      <td>0015-1</td>\n",
       "      <td>Space Mini-Figures</td>\n",
       "      <td>1979</td>\n",
       "      <td>143</td>\n",
       "      <td>18</td>\n",
       "      <td>https://cdn.rebrickable.com/media/sets/0015-1.jpg</td>\n",
       "    </tr>\n",
       "    <tr>\n",
       "      <th>7</th>\n",
       "      <td>0016-1</td>\n",
       "      <td>Castle Mini Figures</td>\n",
       "      <td>1979</td>\n",
       "      <td>189</td>\n",
       "      <td>15</td>\n",
       "      <td>https://cdn.rebrickable.com/media/sets/0016-1.jpg</td>\n",
       "    </tr>\n",
       "    <tr>\n",
       "      <th>8</th>\n",
       "      <td>002-1</td>\n",
       "      <td>4.5V Samsonite Gears Motor Set</td>\n",
       "      <td>1965</td>\n",
       "      <td>1</td>\n",
       "      <td>3</td>\n",
       "      <td>https://cdn.rebrickable.com/media/sets/002-1.jpg</td>\n",
       "    </tr>\n",
       "    <tr>\n",
       "      <th>9</th>\n",
       "      <td>002253963-1</td>\n",
       "      <td>Legend of Chima: Corbeaux et Gorilles</td>\n",
       "      <td>2013</td>\n",
       "      <td>497</td>\n",
       "      <td>4</td>\n",
       "      <td>https://cdn.rebrickable.com/media/sets/0022539...</td>\n",
       "    </tr>\n",
       "    <tr>\n",
       "      <th>10</th>\n",
       "      <td>003-1</td>\n",
       "      <td>Master Mechanic Set</td>\n",
       "      <td>1966</td>\n",
       "      <td>366</td>\n",
       "      <td>403</td>\n",
       "      <td>https://cdn.rebrickable.com/media/sets/003-1.jpg</td>\n",
       "    </tr>\n",
       "  </tbody>\n",
       "</table>\n",
       "</div>"
      ],
      "text/plain": [
       "        set_num                                   name  year  theme_id  \\\n",
       "0         001-1                                  Gears  1965         1   \n",
       "1        0011-2                      Town Mini-Figures  1979        67   \n",
       "3        0012-1                     Space Mini-Figures  1979       143   \n",
       "4        0013-1                     Space Mini-Figures  1979       143   \n",
       "5        0014-1                     Space Mini-Figures  1979       143   \n",
       "6        0015-1                     Space Mini-Figures  1979       143   \n",
       "7        0016-1                    Castle Mini Figures  1979       189   \n",
       "8         002-1         4.5V Samsonite Gears Motor Set  1965         1   \n",
       "9   002253963-1  Legend of Chima: Corbeaux et Gorilles  2013       497   \n",
       "10        003-1                    Master Mechanic Set  1966       366   \n",
       "\n",
       "    num_parts                                            img_url  \n",
       "0          43   https://cdn.rebrickable.com/media/sets/001-1.jpg  \n",
       "1          12  https://cdn.rebrickable.com/media/sets/0011-2.jpg  \n",
       "3          12  https://cdn.rebrickable.com/media/sets/0012-1.jpg  \n",
       "4          12  https://cdn.rebrickable.com/media/sets/0013-1.jpg  \n",
       "5           2  https://cdn.rebrickable.com/media/sets/0014-1.jpg  \n",
       "6          18  https://cdn.rebrickable.com/media/sets/0015-1.jpg  \n",
       "7          15  https://cdn.rebrickable.com/media/sets/0016-1.jpg  \n",
       "8           3   https://cdn.rebrickable.com/media/sets/002-1.jpg  \n",
       "9           4  https://cdn.rebrickable.com/media/sets/0022539...  \n",
       "10        403   https://cdn.rebrickable.com/media/sets/003-1.jpg  "
      ]
     },
     "execution_count": 8,
     "metadata": {},
     "output_type": "execute_result"
    }
   ],
   "source": [
    "sets = sets[sets[\"num_parts\"]>0]\n",
    "sets.head(10)"
   ]
  },
  {
   "cell_type": "markdown",
   "metadata": {},
   "source": [
    "# __Zadanie 6__"
   ]
  },
  {
   "cell_type": "code",
   "execution_count": 9,
   "metadata": {},
   "outputs": [
    {
     "data": {
      "text/html": [
       "<div>\n",
       "<style scoped>\n",
       "    .dataframe tbody tr th:only-of-type {\n",
       "        vertical-align: middle;\n",
       "    }\n",
       "\n",
       "    .dataframe tbody tr th {\n",
       "        vertical-align: top;\n",
       "    }\n",
       "\n",
       "    .dataframe thead th {\n",
       "        text-align: right;\n",
       "    }\n",
       "</style>\n",
       "<table border=\"1\" class=\"dataframe\">\n",
       "  <thead>\n",
       "    <tr style=\"text-align: right;\">\n",
       "      <th></th>\n",
       "      <th></th>\n",
       "      <th>set_num</th>\n",
       "      <th>theme_id</th>\n",
       "      <th>num_parts</th>\n",
       "      <th>img_url</th>\n",
       "    </tr>\n",
       "    <tr>\n",
       "      <th>year</th>\n",
       "      <th>name</th>\n",
       "      <th></th>\n",
       "      <th></th>\n",
       "      <th></th>\n",
       "      <th></th>\n",
       "    </tr>\n",
       "  </thead>\n",
       "  <tbody>\n",
       "    <tr>\n",
       "      <th rowspan=\"5\" valign=\"top\">1949</th>\n",
       "      <th>Extra-Large Gift Set (ABB)</th>\n",
       "      <td>700.1-1</td>\n",
       "      <td>365</td>\n",
       "      <td>142</td>\n",
       "      <td>https://cdn.rebrickable.com/media/sets/700.1-1...</td>\n",
       "    </tr>\n",
       "    <tr>\n",
       "      <th>Large Gift Set (ABB)</th>\n",
       "      <td>700.2-1</td>\n",
       "      <td>365</td>\n",
       "      <td>178</td>\n",
       "      <td>https://cdn.rebrickable.com/media/sets/700.2-1...</td>\n",
       "    </tr>\n",
       "    <tr>\n",
       "      <th>Medium Gift Set (ABB)</th>\n",
       "      <td>700.3-1</td>\n",
       "      <td>365</td>\n",
       "      <td>142</td>\n",
       "      <td>https://cdn.rebrickable.com/media/sets/700.3-1...</td>\n",
       "    </tr>\n",
       "    <tr>\n",
       "      <th>Small Brick Set (ABB)</th>\n",
       "      <td>700.A-1</td>\n",
       "      <td>371</td>\n",
       "      <td>24</td>\n",
       "      <td>https://cdn.rebrickable.com/media/sets/700.a-1...</td>\n",
       "    </tr>\n",
       "    <tr>\n",
       "      <th>Small Doors and Windows Set (ABB)</th>\n",
       "      <td>700.B-1</td>\n",
       "      <td>371</td>\n",
       "      <td>12</td>\n",
       "      <td>https://cdn.rebrickable.com/media/sets/700.b-1...</td>\n",
       "    </tr>\n",
       "    <tr>\n",
       "      <th>...</th>\n",
       "      <th>...</th>\n",
       "      <td>...</td>\n",
       "      <td>...</td>\n",
       "      <td>...</td>\n",
       "      <td>...</td>\n",
       "    </tr>\n",
       "    <tr>\n",
       "      <th rowspan=\"5\" valign=\"top\">2023</th>\n",
       "      <th>Zane</th>\n",
       "      <td>892306-1</td>\n",
       "      <td>435</td>\n",
       "      <td>13</td>\n",
       "      <td>https://cdn.rebrickable.com/media/sets/892306-...</td>\n",
       "    </tr>\n",
       "    <tr>\n",
       "      <th>Zane vs Garmadon</th>\n",
       "      <td>112322-1</td>\n",
       "      <td>435</td>\n",
       "      <td>13</td>\n",
       "      <td>https://cdn.rebrickable.com/media/sets/112322-...</td>\n",
       "    </tr>\n",
       "    <tr>\n",
       "      <th>Zane's Ice Dragon Creature</th>\n",
       "      <td>71786-1</td>\n",
       "      <td>435</td>\n",
       "      <td>984</td>\n",
       "      <td>https://cdn.rebrickable.com/media/sets/71786-1...</td>\n",
       "    </tr>\n",
       "    <tr>\n",
       "      <th>Zane’s Dragon Power Spinjitzu Race Car</th>\n",
       "      <td>71791-1</td>\n",
       "      <td>435</td>\n",
       "      <td>307</td>\n",
       "      <td>https://cdn.rebrickable.com/media/sets/71791-1...</td>\n",
       "    </tr>\n",
       "    <tr>\n",
       "      <th>Zombie</th>\n",
       "      <td>40626-1</td>\n",
       "      <td>610</td>\n",
       "      <td>81</td>\n",
       "      <td>https://cdn.rebrickable.com/media/sets/40626-1...</td>\n",
       "    </tr>\n",
       "  </tbody>\n",
       "</table>\n",
       "<p>16700 rows × 4 columns</p>\n",
       "</div>"
      ],
      "text/plain": [
       "                                              set_num  theme_id  num_parts  \\\n",
       "year name                                                                    \n",
       "1949 Extra-Large Gift Set (ABB)               700.1-1       365        142   \n",
       "     Large Gift Set (ABB)                     700.2-1       365        178   \n",
       "     Medium Gift Set (ABB)                    700.3-1       365        142   \n",
       "     Small Brick Set (ABB)                    700.A-1       371         24   \n",
       "     Small Doors and Windows Set (ABB)        700.B-1       371         12   \n",
       "...                                               ...       ...        ...   \n",
       "2023 Zane                                    892306-1       435         13   \n",
       "     Zane vs Garmadon                        112322-1       435         13   \n",
       "     Zane's Ice Dragon Creature               71786-1       435        984   \n",
       "     Zane’s Dragon Power Spinjitzu Race Car   71791-1       435        307   \n",
       "     Zombie                                   40626-1       610         81   \n",
       "\n",
       "                                                                                       img_url  \n",
       "year name                                                                                       \n",
       "1949 Extra-Large Gift Set (ABB)              https://cdn.rebrickable.com/media/sets/700.1-1...  \n",
       "     Large Gift Set (ABB)                    https://cdn.rebrickable.com/media/sets/700.2-1...  \n",
       "     Medium Gift Set (ABB)                   https://cdn.rebrickable.com/media/sets/700.3-1...  \n",
       "     Small Brick Set (ABB)                   https://cdn.rebrickable.com/media/sets/700.a-1...  \n",
       "     Small Doors and Windows Set (ABB)       https://cdn.rebrickable.com/media/sets/700.b-1...  \n",
       "...                                                                                        ...  \n",
       "2023 Zane                                    https://cdn.rebrickable.com/media/sets/892306-...  \n",
       "     Zane vs Garmadon                        https://cdn.rebrickable.com/media/sets/112322-...  \n",
       "     Zane's Ice Dragon Creature              https://cdn.rebrickable.com/media/sets/71786-1...  \n",
       "     Zane’s Dragon Power Spinjitzu Race Car  https://cdn.rebrickable.com/media/sets/71791-1...  \n",
       "     Zombie                                  https://cdn.rebrickable.com/media/sets/40626-1...  \n",
       "\n",
       "[16700 rows x 4 columns]"
      ]
     },
     "execution_count": 9,
     "metadata": {},
     "output_type": "execute_result"
    }
   ],
   "source": [
    "sets.groupby([\"year\", \"name\"]).sum()"
   ]
  },
  {
   "cell_type": "markdown",
   "metadata": {},
   "source": [
    "# __Zadanie 7__"
   ]
  },
  {
   "cell_type": "code",
   "execution_count": 10,
   "metadata": {},
   "outputs": [
    {
     "data": {
      "text/plain": [
       "511"
      ]
     },
     "execution_count": 10,
     "metadata": {},
     "output_type": "execute_result"
    }
   ],
   "source": [
    "sets_my_year = sets[sets[\"year\"]==2002]\n",
    "sets_my_year.shape[0]"
   ]
  },
  {
   "cell_type": "markdown",
   "metadata": {},
   "source": [
    "# __Zadanie 8__"
   ]
  },
  {
   "cell_type": "code",
   "execution_count": 11,
   "metadata": {},
   "outputs": [
    {
     "data": {
      "text/plain": [
       "mean      107.669276\n",
       "median     38.000000\n",
       "Name: num_parts, dtype: float64"
      ]
     },
     "execution_count": 11,
     "metadata": {},
     "output_type": "execute_result"
    }
   ],
   "source": [
    "sets_my_year[\"num_parts\"].agg([np.mean, np.median])"
   ]
  },
  {
   "cell_type": "markdown",
   "metadata": {},
   "source": [
    "# __Zadanie 9__"
   ]
  },
  {
   "cell_type": "code",
   "execution_count": 12,
   "metadata": {},
   "outputs": [
    {
     "data": {
      "text/plain": [
       "4293    World Map\n",
       "Name: name, dtype: object"
      ]
     },
     "execution_count": 12,
     "metadata": {},
     "output_type": "execute_result"
    }
   ],
   "source": [
    "sets.sort_values([\"num_parts\"], ascending=False).head(1)[\"name\"]"
   ]
  },
  {
   "cell_type": "markdown",
   "metadata": {},
   "source": [
    "# __Zadanie 10__"
   ]
  },
  {
   "cell_type": "code",
   "execution_count": 13,
   "metadata": {},
   "outputs": [
    {
     "data": {
      "text/plain": [
       "144    Imperial Star Destroyer\n",
       "Name: name, dtype: object"
      ]
     },
     "execution_count": 13,
     "metadata": {},
     "output_type": "execute_result"
    }
   ],
   "source": [
    "sets_my_year.sort_values([\"num_parts\"], ascending=False).head(1)[\"name\"]"
   ]
  },
  {
   "cell_type": "markdown",
   "metadata": {},
   "source": [
    "# __Zadanie 11__"
   ]
  },
  {
   "cell_type": "code",
   "execution_count": 14,
   "metadata": {},
   "outputs": [
    {
     "data": {
      "text/html": [
       "<div>\n",
       "<style scoped>\n",
       "    .dataframe tbody tr th:only-of-type {\n",
       "        vertical-align: middle;\n",
       "    }\n",
       "\n",
       "    .dataframe tbody tr th {\n",
       "        vertical-align: top;\n",
       "    }\n",
       "\n",
       "    .dataframe thead th {\n",
       "        text-align: right;\n",
       "    }\n",
       "</style>\n",
       "<table border=\"1\" class=\"dataframe\">\n",
       "  <thead>\n",
       "    <tr style=\"text-align: right;\">\n",
       "      <th></th>\n",
       "      <th>name</th>\n",
       "      <th>num_parts</th>\n",
       "    </tr>\n",
       "    <tr>\n",
       "      <th>year</th>\n",
       "      <th></th>\n",
       "      <th></th>\n",
       "    </tr>\n",
       "  </thead>\n",
       "  <tbody>\n",
       "    <tr>\n",
       "      <th>1949</th>\n",
       "      <td>Small Doors and Windows Set (ABB)</td>\n",
       "      <td>178</td>\n",
       "    </tr>\n",
       "    <tr>\n",
       "      <th>1950</th>\n",
       "      <td>Single 2 x 4 Brick (ABB)</td>\n",
       "      <td>1</td>\n",
       "    </tr>\n",
       "    <tr>\n",
       "      <th>1953</th>\n",
       "      <td>Individual 2 x 3 Bricks</td>\n",
       "      <td>48</td>\n",
       "    </tr>\n",
       "    <tr>\n",
       "      <th>1954</th>\n",
       "      <td>Tall Classic Windows/Door (with Glass)</td>\n",
       "      <td>54</td>\n",
       "    </tr>\n",
       "    <tr>\n",
       "      <th>1955</th>\n",
       "      <td>Windows and Doors</td>\n",
       "      <td>59</td>\n",
       "    </tr>\n",
       "    <tr>\n",
       "      <th>...</th>\n",
       "      <td>...</td>\n",
       "      <td>...</td>\n",
       "    </tr>\n",
       "    <tr>\n",
       "      <th>2019</th>\n",
       "      <td>Zebra Batman</td>\n",
       "      <td>4784</td>\n",
       "    </tr>\n",
       "    <tr>\n",
       "      <th>2020</th>\n",
       "      <td>Zane's Mino Creature</td>\n",
       "      <td>9036</td>\n",
       "    </tr>\n",
       "    <tr>\n",
       "      <th>2021</th>\n",
       "      <td>adidas Originals Superstar</td>\n",
       "      <td>11695</td>\n",
       "    </tr>\n",
       "    <tr>\n",
       "      <th>2022</th>\n",
       "      <td>Zyclops Chase</td>\n",
       "      <td>10001</td>\n",
       "    </tr>\n",
       "    <tr>\n",
       "      <th>2023</th>\n",
       "      <td>Zombie</td>\n",
       "      <td>6182</td>\n",
       "    </tr>\n",
       "  </tbody>\n",
       "</table>\n",
       "<p>73 rows × 2 columns</p>\n",
       "</div>"
      ],
      "text/plain": [
       "                                        name  num_parts\n",
       "year                                                   \n",
       "1949       Small Doors and Windows Set (ABB)        178\n",
       "1950                Single 2 x 4 Brick (ABB)          1\n",
       "1953                 Individual 2 x 3 Bricks         48\n",
       "1954  Tall Classic Windows/Door (with Glass)         54\n",
       "1955                       Windows and Doors         59\n",
       "...                                      ...        ...\n",
       "2019                            Zebra Batman       4784\n",
       "2020                    Zane's Mino Creature       9036\n",
       "2021              adidas Originals Superstar      11695\n",
       "2022                           Zyclops Chase      10001\n",
       "2023                                  Zombie       6182\n",
       "\n",
       "[73 rows x 2 columns]"
      ]
     },
     "execution_count": 14,
     "metadata": {},
     "output_type": "execute_result"
    }
   ],
   "source": [
    "sets.groupby(\"year\").max()[[\"name\", \"num_parts\"]]"
   ]
  },
  {
   "cell_type": "markdown",
   "metadata": {},
   "source": [
    "# __Zadanie 12__"
   ]
  },
  {
   "cell_type": "code",
   "execution_count": 15,
   "metadata": {},
   "outputs": [],
   "source": [
    "to_plot = sets.groupby(\"year\").count()[\"set_num\"]"
   ]
  },
  {
   "cell_type": "code",
   "execution_count": 16,
   "metadata": {},
   "outputs": [
    {
     "data": {
      "image/png": "[encoded data removed]",
      "text/plain": [
       "<Figure size 640x480 with 1 Axes>"
      ]
     },
     "metadata": {},
     "output_type": "display_data"
    }
   ],
   "source": [
    "plt.scatter(to_plot.index, to_plot.values)\n",
    "plt.grid(visible=True)\n",
    "plt.show()"
   ]
  },
  {
   "cell_type": "code",
   "execution_count": 17,
   "metadata": {},
   "outputs": [
    {
     "data": {
      "text/html": [
       "<div>\n",
       "<style scoped>\n",
       "    .dataframe tbody tr th:only-of-type {\n",
       "        vertical-align: middle;\n",
       "    }\n",
       "\n",
       "    .dataframe tbody tr th {\n",
       "        vertical-align: top;\n",
       "    }\n",
       "\n",
       "    .dataframe thead th {\n",
       "        text-align: right;\n",
       "    }\n",
       "</style>\n",
       "<table border=\"1\" class=\"dataframe\">\n",
       "  <thead>\n",
       "    <tr style=\"text-align: right;\">\n",
       "      <th></th>\n",
       "      <th>mean</th>\n",
       "      <th>median</th>\n",
       "    </tr>\n",
       "    <tr>\n",
       "      <th>year</th>\n",
       "      <th></th>\n",
       "      <th></th>\n",
       "    </tr>\n",
       "  </thead>\n",
       "  <tbody>\n",
       "    <tr>\n",
       "      <th>1949</th>\n",
       "      <td>99.600000</td>\n",
       "      <td>142.0</td>\n",
       "    </tr>\n",
       "    <tr>\n",
       "      <th>1950</th>\n",
       "      <td>1.000000</td>\n",
       "      <td>1.0</td>\n",
       "    </tr>\n",
       "    <tr>\n",
       "      <th>1953</th>\n",
       "      <td>16.666667</td>\n",
       "      <td>1.0</td>\n",
       "    </tr>\n",
       "    <tr>\n",
       "      <th>1954</th>\n",
       "      <td>8.357143</td>\n",
       "      <td>1.0</td>\n",
       "    </tr>\n",
       "    <tr>\n",
       "      <th>1955</th>\n",
       "      <td>13.222222</td>\n",
       "      <td>8.0</td>\n",
       "    </tr>\n",
       "    <tr>\n",
       "      <th>...</th>\n",
       "      <td>...</td>\n",
       "      <td>...</td>\n",
       "    </tr>\n",
       "    <tr>\n",
       "      <th>2019</th>\n",
       "      <td>268.618182</td>\n",
       "      <td>71.0</td>\n",
       "    </tr>\n",
       "    <tr>\n",
       "      <th>2020</th>\n",
       "      <td>288.636735</td>\n",
       "      <td>70.0</td>\n",
       "    </tr>\n",
       "    <tr>\n",
       "      <th>2021</th>\n",
       "      <td>348.872536</td>\n",
       "      <td>85.0</td>\n",
       "    </tr>\n",
       "    <tr>\n",
       "      <th>2022</th>\n",
       "      <td>401.865522</td>\n",
       "      <td>110.0</td>\n",
       "    </tr>\n",
       "    <tr>\n",
       "      <th>2023</th>\n",
       "      <td>418.059791</td>\n",
       "      <td>160.0</td>\n",
       "    </tr>\n",
       "  </tbody>\n",
       "</table>\n",
       "<p>73 rows × 2 columns</p>\n",
       "</div>"
      ],
      "text/plain": [
       "            mean  median\n",
       "year                    \n",
       "1949   99.600000   142.0\n",
       "1950    1.000000     1.0\n",
       "1953   16.666667     1.0\n",
       "1954    8.357143     1.0\n",
       "1955   13.222222     8.0\n",
       "...          ...     ...\n",
       "2019  268.618182    71.0\n",
       "2020  288.636735    70.0\n",
       "2021  348.872536    85.0\n",
       "2022  401.865522   110.0\n",
       "2023  418.059791   160.0\n",
       "\n",
       "[73 rows x 2 columns]"
      ]
     },
     "execution_count": 17,
     "metadata": {},
     "output_type": "execute_result"
    }
   ],
   "source": [
    "mean_median_by_year = sets.groupby(\"year\")[\"num_parts\"].agg([np.mean, np.median])\n",
    "mean_median_by_year"
   ]
  },
  {
   "cell_type": "code",
   "execution_count": 18,
   "metadata": {},
   "outputs": [
    {
     "data": {
      "image/png": "[encoded data removed]",
      "text/plain": [
       "<Figure size 640x480 with 1 Axes>"
      ]
     },
     "metadata": {},
     "output_type": "display_data"
    }
   ],
   "source": [
    "plt.bar(mean_median_by_year.index, mean_median_by_year[\"mean\"])\n",
    "plt.grid(True)\n",
    "plt.title(\"Mean\")\n",
    "plt.show()"
   ]
  },
  {
   "cell_type": "code",
   "execution_count": 19,
   "metadata": {},
   "outputs": [
    {
     "data": {
      "image/png": "[encoded data removed]",
      "text/plain": [
       "<Figure size 640x480 with 1 Axes>"
      ]
     },
     "metadata": {},
     "output_type": "display_data"
    }
   ],
   "source": [
    "plt.bar(mean_median_by_year.index, mean_median_by_year[\"median\"])\n",
    "plt.grid(True)\n",
    "plt.title(\"Median\")\n",
    "plt.show()"
   ]
  },
  {
   "cell_type": "markdown",
   "metadata": {},
   "source": [
    "# __Zadanie 14__"
   ]
  },
  {
   "cell_type": "code",
   "execution_count": 20,
   "metadata": {},
   "outputs": [
    {
     "data": {
      "text/html": [
       "<div>\n",
       "<style scoped>\n",
       "    .dataframe tbody tr th:only-of-type {\n",
       "        vertical-align: middle;\n",
       "    }\n",
       "\n",
       "    .dataframe tbody tr th {\n",
       "        vertical-align: top;\n",
       "    }\n",
       "\n",
       "    .dataframe thead th {\n",
       "        text-align: right;\n",
       "    }\n",
       "</style>\n",
       "<table border=\"1\" class=\"dataframe\">\n",
       "  <thead>\n",
       "    <tr style=\"text-align: right;\">\n",
       "      <th></th>\n",
       "      <th>set_num</th>\n",
       "      <th>name</th>\n",
       "      <th>year</th>\n",
       "      <th>theme_id</th>\n",
       "      <th>num_parts</th>\n",
       "      <th>img_url</th>\n",
       "    </tr>\n",
       "  </thead>\n",
       "  <tbody>\n",
       "    <tr>\n",
       "      <th>67</th>\n",
       "      <td>0756672805-1</td>\n",
       "      <td>Pirates: Brickmaster</td>\n",
       "      <td>2009</td>\n",
       "      <td>497</td>\n",
       "      <td>162</td>\n",
       "      <td>https://cdn.rebrickable.com/media/sets/0756672...</td>\n",
       "    </tr>\n",
       "    <tr>\n",
       "      <th>898</th>\n",
       "      <td>1100-1</td>\n",
       "      <td>Sky Pirates</td>\n",
       "      <td>2001</td>\n",
       "      <td>50</td>\n",
       "      <td>110</td>\n",
       "      <td>https://cdn.rebrickable.com/media/sets/1100-1.jpg</td>\n",
       "    </tr>\n",
       "    <tr>\n",
       "      <th>1153</th>\n",
       "      <td>12148079-1</td>\n",
       "      <td>Ninjago: Sky Pirates Attack!</td>\n",
       "      <td>2016</td>\n",
       "      <td>497</td>\n",
       "      <td>7</td>\n",
       "      <td>https://cdn.rebrickable.com/media/sets/1214807...</td>\n",
       "    </tr>\n",
       "    <tr>\n",
       "      <th>1934</th>\n",
       "      <td>1871-1</td>\n",
       "      <td>Pirates Cannon</td>\n",
       "      <td>1994</td>\n",
       "      <td>148</td>\n",
       "      <td>17</td>\n",
       "      <td>https://cdn.rebrickable.com/media/sets/1871-1.jpg</td>\n",
       "    </tr>\n",
       "    <tr>\n",
       "      <th>2540</th>\n",
       "      <td>21322-1</td>\n",
       "      <td>Pirates of Barracuda Bay</td>\n",
       "      <td>2020</td>\n",
       "      <td>576</td>\n",
       "      <td>2545</td>\n",
       "      <td>https://cdn.rebrickable.com/media/sets/21322-1...</td>\n",
       "    </tr>\n",
       "    <tr>\n",
       "      <th>2966</th>\n",
       "      <td>258175-2</td>\n",
       "      <td>Play and Build Remote for Nintendo Wii - Pirat...</td>\n",
       "      <td>2011</td>\n",
       "      <td>742</td>\n",
       "      <td>25</td>\n",
       "      <td>https://cdn.rebrickable.com/media/sets/258175-...</td>\n",
       "    </tr>\n",
       "    <tr>\n",
       "      <th>5423</th>\n",
       "      <td>40158-1</td>\n",
       "      <td>Pirates Chess Set</td>\n",
       "      <td>2015</td>\n",
       "      <td>154</td>\n",
       "      <td>856</td>\n",
       "      <td>https://cdn.rebrickable.com/media/sets/40158-1...</td>\n",
       "    </tr>\n",
       "    <tr>\n",
       "      <th>5794</th>\n",
       "      <td>40515-1</td>\n",
       "      <td>Pirates and Treasure VIP Add On Pack</td>\n",
       "      <td>2022</td>\n",
       "      <td>598</td>\n",
       "      <td>103</td>\n",
       "      <td>https://cdn.rebrickable.com/media/sets/40515-1...</td>\n",
       "    </tr>\n",
       "    <tr>\n",
       "      <th>8383</th>\n",
       "      <td>5003082-1</td>\n",
       "      <td>Pirates Adventure</td>\n",
       "      <td>2015</td>\n",
       "      <td>154</td>\n",
       "      <td>28</td>\n",
       "      <td>https://cdn.rebrickable.com/media/sets/5003082...</td>\n",
       "    </tr>\n",
       "    <tr>\n",
       "      <th>8711</th>\n",
       "      <td>5004391-1</td>\n",
       "      <td>Sky Pirates Battle</td>\n",
       "      <td>2016</td>\n",
       "      <td>435</td>\n",
       "      <td>32</td>\n",
       "      <td>https://cdn.rebrickable.com/media/sets/5004391...</td>\n",
       "    </tr>\n",
       "    <tr>\n",
       "      <th>11698</th>\n",
       "      <td>6192-1</td>\n",
       "      <td>Pirates Building Set</td>\n",
       "      <td>2009</td>\n",
       "      <td>35</td>\n",
       "      <td>150</td>\n",
       "      <td>https://cdn.rebrickable.com/media/sets/6192-1.jpg</td>\n",
       "    </tr>\n",
       "    <tr>\n",
       "      <th>11757</th>\n",
       "      <td>6237-1</td>\n",
       "      <td>Pirates' Plunder</td>\n",
       "      <td>1993</td>\n",
       "      <td>148</td>\n",
       "      <td>28</td>\n",
       "      <td>https://cdn.rebrickable.com/media/sets/6237-1.jpg</td>\n",
       "    </tr>\n",
       "    <tr>\n",
       "      <th>11774</th>\n",
       "      <td>6249-1</td>\n",
       "      <td>Pirates Ambush</td>\n",
       "      <td>1997</td>\n",
       "      <td>148</td>\n",
       "      <td>159</td>\n",
       "      <td>https://cdn.rebrickable.com/media/sets/6249-1.jpg</td>\n",
       "    </tr>\n",
       "    <tr>\n",
       "      <th>11835</th>\n",
       "      <td>6281-1</td>\n",
       "      <td>Pirates Perilous Pitfall</td>\n",
       "      <td>1997</td>\n",
       "      <td>148</td>\n",
       "      <td>404</td>\n",
       "      <td>https://cdn.rebrickable.com/media/sets/6281-1.jpg</td>\n",
       "    </tr>\n",
       "    <tr>\n",
       "      <th>11856</th>\n",
       "      <td>6299-1</td>\n",
       "      <td>Pirates Advent Calendar 2009</td>\n",
       "      <td>2009</td>\n",
       "      <td>215</td>\n",
       "      <td>148</td>\n",
       "      <td>https://cdn.rebrickable.com/media/sets/6299-1.jpg</td>\n",
       "    </tr>\n",
       "    <tr>\n",
       "      <th>14787</th>\n",
       "      <td>7290-1</td>\n",
       "      <td>Pirates Polybag</td>\n",
       "      <td>2004</td>\n",
       "      <td>279</td>\n",
       "      <td>5</td>\n",
       "      <td>https://cdn.rebrickable.com/media/sets/7290-1.jpg</td>\n",
       "    </tr>\n",
       "    <tr>\n",
       "      <th>17379</th>\n",
       "      <td>852543-1</td>\n",
       "      <td>Pirates Magnet Set</td>\n",
       "      <td>2009</td>\n",
       "      <td>734</td>\n",
       "      <td>22</td>\n",
       "      <td>https://cdn.rebrickable.com/media/sets/852543-...</td>\n",
       "    </tr>\n",
       "    <tr>\n",
       "      <th>17431</th>\n",
       "      <td>852747-1</td>\n",
       "      <td>Battle Pack Pirates</td>\n",
       "      <td>2009</td>\n",
       "      <td>153</td>\n",
       "      <td>40</td>\n",
       "      <td>https://cdn.rebrickable.com/media/sets/852747-...</td>\n",
       "    </tr>\n",
       "    <tr>\n",
       "      <th>17432</th>\n",
       "      <td>852748-1</td>\n",
       "      <td>Pirates Coin Bank</td>\n",
       "      <td>2009</td>\n",
       "      <td>501</td>\n",
       "      <td>127</td>\n",
       "      <td>https://cdn.rebrickable.com/media/sets/852748-...</td>\n",
       "    </tr>\n",
       "    <tr>\n",
       "      <th>17434</th>\n",
       "      <td>852750-1</td>\n",
       "      <td>Pirates Tic Tac Toe</td>\n",
       "      <td>2009</td>\n",
       "      <td>153</td>\n",
       "      <td>90</td>\n",
       "      <td>https://cdn.rebrickable.com/media/sets/852750-...</td>\n",
       "    </tr>\n",
       "    <tr>\n",
       "      <th>17435</th>\n",
       "      <td>852751-1</td>\n",
       "      <td>Pirates Chess</td>\n",
       "      <td>2009</td>\n",
       "      <td>153</td>\n",
       "      <td>285</td>\n",
       "      <td>https://cdn.rebrickable.com/media/sets/852751-...</td>\n",
       "    </tr>\n",
       "    <tr>\n",
       "      <th>17578</th>\n",
       "      <td>853191-1</td>\n",
       "      <td>Pirates of the Caribbean Magnet Set</td>\n",
       "      <td>2011</td>\n",
       "      <td>734</td>\n",
       "      <td>20</td>\n",
       "      <td>https://cdn.rebrickable.com/media/sets/853191-...</td>\n",
       "    </tr>\n",
       "    <tr>\n",
       "      <th>17588</th>\n",
       "      <td>853219-1</td>\n",
       "      <td>Pirates of the Caribbean Battle Pack</td>\n",
       "      <td>2011</td>\n",
       "      <td>263</td>\n",
       "      <td>30</td>\n",
       "      <td>https://cdn.rebrickable.com/media/sets/853219-...</td>\n",
       "    </tr>\n",
       "    <tr>\n",
       "      <th>18435</th>\n",
       "      <td>880031-1</td>\n",
       "      <td>Play and Build Kit for Nintendo DS - Pirates o...</td>\n",
       "      <td>2011</td>\n",
       "      <td>742</td>\n",
       "      <td>15</td>\n",
       "      <td>https://cdn.rebrickable.com/media/sets/880031-...</td>\n",
       "    </tr>\n",
       "    <tr>\n",
       "      <th>18437</th>\n",
       "      <td>880033-1</td>\n",
       "      <td>Armor Case Kit for Nintendo DSi - Pirates of t...</td>\n",
       "      <td>2011</td>\n",
       "      <td>742</td>\n",
       "      <td>25</td>\n",
       "      <td>https://cdn.rebrickable.com/media/sets/880033-...</td>\n",
       "    </tr>\n",
       "  </tbody>\n",
       "</table>\n",
       "</div>"
      ],
      "text/plain": [
       "            set_num                                               name  year  \\\n",
       "67     0756672805-1                               Pirates: Brickmaster  2009   \n",
       "898          1100-1                                        Sky Pirates  2001   \n",
       "1153     12148079-1                       Ninjago: Sky Pirates Attack!  2016   \n",
       "1934         1871-1                                     Pirates Cannon  1994   \n",
       "2540        21322-1                           Pirates of Barracuda Bay  2020   \n",
       "2966       258175-2  Play and Build Remote for Nintendo Wii - Pirat...  2011   \n",
       "5423        40158-1                                  Pirates Chess Set  2015   \n",
       "5794        40515-1               Pirates and Treasure VIP Add On Pack  2022   \n",
       "8383      5003082-1                                  Pirates Adventure  2015   \n",
       "8711      5004391-1                                 Sky Pirates Battle  2016   \n",
       "11698        6192-1                               Pirates Building Set  2009   \n",
       "11757        6237-1                                   Pirates' Plunder  1993   \n",
       "11774        6249-1                                     Pirates Ambush  1997   \n",
       "11835        6281-1                           Pirates Perilous Pitfall  1997   \n",
       "11856        6299-1                       Pirates Advent Calendar 2009  2009   \n",
       "14787        7290-1                                    Pirates Polybag  2004   \n",
       "17379      852543-1                                 Pirates Magnet Set  2009   \n",
       "17431      852747-1                                Battle Pack Pirates  2009   \n",
       "17432      852748-1                                  Pirates Coin Bank  2009   \n",
       "17434      852750-1                                Pirates Tic Tac Toe  2009   \n",
       "17435      852751-1                                      Pirates Chess  2009   \n",
       "17578      853191-1                Pirates of the Caribbean Magnet Set  2011   \n",
       "17588      853219-1               Pirates of the Caribbean Battle Pack  2011   \n",
       "18435      880031-1  Play and Build Kit for Nintendo DS - Pirates o...  2011   \n",
       "18437      880033-1  Armor Case Kit for Nintendo DSi - Pirates of t...  2011   \n",
       "\n",
       "       theme_id  num_parts                                            img_url  \n",
       "67          497        162  https://cdn.rebrickable.com/media/sets/0756672...  \n",
       "898          50        110  https://cdn.rebrickable.com/media/sets/1100-1.jpg  \n",
       "1153        497          7  https://cdn.rebrickable.com/media/sets/1214807...  \n",
       "1934        148         17  https://cdn.rebrickable.com/media/sets/1871-1.jpg  \n",
       "2540        576       2545  https://cdn.rebrickable.com/media/sets/21322-1...  \n",
       "2966        742         25  https://cdn.rebrickable.com/media/sets/258175-...  \n",
       "5423        154        856  https://cdn.rebrickable.com/media/sets/40158-1...  \n",
       "5794        598        103  https://cdn.rebrickable.com/media/sets/40515-1...  \n",
       "8383        154         28  https://cdn.rebrickable.com/media/sets/5003082...  \n",
       "8711        435         32  https://cdn.rebrickable.com/media/sets/5004391...  \n",
       "11698        35        150  https://cdn.rebrickable.com/media/sets/6192-1.jpg  \n",
       "11757       148         28  https://cdn.rebrickable.com/media/sets/6237-1.jpg  \n",
       "11774       148        159  https://cdn.rebrickable.com/media/sets/6249-1.jpg  \n",
       "11835       148        404  https://cdn.rebrickable.com/media/sets/6281-1.jpg  \n",
       "11856       215        148  https://cdn.rebrickable.com/media/sets/6299-1.jpg  \n",
       "14787       279          5  https://cdn.rebrickable.com/media/sets/7290-1.jpg  \n",
       "17379       734         22  https://cdn.rebrickable.com/media/sets/852543-...  \n",
       "17431       153         40  https://cdn.rebrickable.com/media/sets/852747-...  \n",
       "17432       501        127  https://cdn.rebrickable.com/media/sets/852748-...  \n",
       "17434       153         90  https://cdn.rebrickable.com/media/sets/852750-...  \n",
       "17435       153        285  https://cdn.rebrickable.com/media/sets/852751-...  \n",
       "17578       734         20  https://cdn.rebrickable.com/media/sets/853191-...  \n",
       "17588       263         30  https://cdn.rebrickable.com/media/sets/853219-...  \n",
       "18435       742         15  https://cdn.rebrickable.com/media/sets/880031-...  \n",
       "18437       742         25  https://cdn.rebrickable.com/media/sets/880033-...  "
      ]
     },
     "execution_count": 20,
     "metadata": {},
     "output_type": "execute_result"
    }
   ],
   "source": [
    "word2see = input(\"Type the word you wanna see sets about:\\n\")\n",
    "\n",
    "sets[sets[\"name\"].apply(lambda x: word2see in x)]"
   ]
  },
  {
   "cell_type": "markdown",
   "metadata": {},
   "source": [
    "# __Zadanie 15__"
   ]
  },
  {
   "cell_type": "code",
   "execution_count": 21,
   "metadata": {},
   "outputs": [
    {
     "data": {
      "text/html": [
       "<div>\n",
       "<style scoped>\n",
       "    .dataframe tbody tr th:only-of-type {\n",
       "        vertical-align: middle;\n",
       "    }\n",
       "\n",
       "    .dataframe tbody tr th {\n",
       "        vertical-align: top;\n",
       "    }\n",
       "\n",
       "    .dataframe thead th {\n",
       "        text-align: right;\n",
       "    }\n",
       "</style>\n",
       "<table border=\"1\" class=\"dataframe\">\n",
       "  <thead>\n",
       "    <tr style=\"text-align: right;\">\n",
       "      <th></th>\n",
       "      <th>id</th>\n",
       "      <th>name</th>\n",
       "      <th>parent_id</th>\n",
       "    </tr>\n",
       "  </thead>\n",
       "  <tbody>\n",
       "    <tr>\n",
       "      <th>0</th>\n",
       "      <td>1</td>\n",
       "      <td>Technic</td>\n",
       "      <td>NaN</td>\n",
       "    </tr>\n",
       "    <tr>\n",
       "      <th>1</th>\n",
       "      <td>3</td>\n",
       "      <td>Competition</td>\n",
       "      <td>1.0</td>\n",
       "    </tr>\n",
       "    <tr>\n",
       "      <th>2</th>\n",
       "      <td>4</td>\n",
       "      <td>Expert Builder</td>\n",
       "      <td>1.0</td>\n",
       "    </tr>\n",
       "    <tr>\n",
       "      <th>3</th>\n",
       "      <td>16</td>\n",
       "      <td>RoboRiders</td>\n",
       "      <td>1.0</td>\n",
       "    </tr>\n",
       "    <tr>\n",
       "      <th>4</th>\n",
       "      <td>17</td>\n",
       "      <td>Speed Slammers</td>\n",
       "      <td>1.0</td>\n",
       "    </tr>\n",
       "    <tr>\n",
       "      <th>...</th>\n",
       "      <td>...</td>\n",
       "      <td>...</td>\n",
       "      <td>...</td>\n",
       "    </tr>\n",
       "    <tr>\n",
       "      <th>463</th>\n",
       "      <td>748</td>\n",
       "      <td>Gabby’s Dollhouse</td>\n",
       "      <td>NaN</td>\n",
       "    </tr>\n",
       "    <tr>\n",
       "      <th>464</th>\n",
       "      <td>749</td>\n",
       "      <td>Dreamzzz</td>\n",
       "      <td>NaN</td>\n",
       "    </tr>\n",
       "    <tr>\n",
       "      <th>465</th>\n",
       "      <td>750</td>\n",
       "      <td>Marvel Series 2</td>\n",
       "      <td>535.0</td>\n",
       "    </tr>\n",
       "    <tr>\n",
       "      <th>466</th>\n",
       "      <td>751</td>\n",
       "      <td>Marvel</td>\n",
       "      <td>207.0</td>\n",
       "    </tr>\n",
       "    <tr>\n",
       "      <th>467</th>\n",
       "      <td>752</td>\n",
       "      <td>Animal Crossing</td>\n",
       "      <td>NaN</td>\n",
       "    </tr>\n",
       "  </tbody>\n",
       "</table>\n",
       "<p>468 rows × 3 columns</p>\n",
       "</div>"
      ],
      "text/plain": [
       "      id               name  parent_id\n",
       "0      1            Technic        NaN\n",
       "1      3        Competition        1.0\n",
       "2      4     Expert Builder        1.0\n",
       "3     16         RoboRiders        1.0\n",
       "4     17     Speed Slammers        1.0\n",
       "..   ...                ...        ...\n",
       "463  748  Gabby’s Dollhouse        NaN\n",
       "464  749           Dreamzzz        NaN\n",
       "465  750    Marvel Series 2      535.0\n",
       "466  751             Marvel      207.0\n",
       "467  752    Animal Crossing        NaN\n",
       "\n",
       "[468 rows x 3 columns]"
      ]
     },
     "execution_count": 21,
     "metadata": {},
     "output_type": "execute_result"
    }
   ],
   "source": [
    "themes = pd.read_csv(\"/Users/stawager/Studia/s5/modelowanie_w_data_mining/zaj2/themes.csv\")\n",
    "themes"
   ]
  },
  {
   "cell_type": "code",
   "execution_count": 22,
   "metadata": {},
   "outputs": [
    {
     "name": "stderr",
     "output_type": "stream",
     "text": [
      "/var/folders/dj/h6vn3hhs0b17vsytzpsr82zm0000gn/T/ipykernel_73393/2208575677.py:2: SettingWithCopyWarning: \n",
      "A value is trying to be set on a copy of a slice from a DataFrame\n",
      "\n",
      "See the caveats in the documentation: https://pandas.pydata.org/pandas-docs/stable/user_guide/indexing.html#returning-a-view-versus-a-copy\n",
      "  themes.rename(columns={\"name\":\"theme_name\"}, inplace=True)\n"
     ]
    },
    {
     "data": {
      "text/html": [
       "<div>\n",
       "<style scoped>\n",
       "    .dataframe tbody tr th:only-of-type {\n",
       "        vertical-align: middle;\n",
       "    }\n",
       "\n",
       "    .dataframe tbody tr th {\n",
       "        vertical-align: top;\n",
       "    }\n",
       "\n",
       "    .dataframe thead th {\n",
       "        text-align: right;\n",
       "    }\n",
       "</style>\n",
       "<table border=\"1\" class=\"dataframe\">\n",
       "  <thead>\n",
       "    <tr style=\"text-align: right;\">\n",
       "      <th></th>\n",
       "      <th>set_num</th>\n",
       "      <th>name</th>\n",
       "      <th>year</th>\n",
       "      <th>num_parts</th>\n",
       "      <th>img_url</th>\n",
       "      <th>theme_name</th>\n",
       "    </tr>\n",
       "  </thead>\n",
       "  <tbody>\n",
       "    <tr>\n",
       "      <th>0</th>\n",
       "      <td>001-1</td>\n",
       "      <td>Gears</td>\n",
       "      <td>1965</td>\n",
       "      <td>43</td>\n",
       "      <td>https://cdn.rebrickable.com/media/sets/001-1.jpg</td>\n",
       "      <td>Technic</td>\n",
       "    </tr>\n",
       "    <tr>\n",
       "      <th>1</th>\n",
       "      <td>002-1</td>\n",
       "      <td>4.5V Samsonite Gears Motor Set</td>\n",
       "      <td>1965</td>\n",
       "      <td>3</td>\n",
       "      <td>https://cdn.rebrickable.com/media/sets/002-1.jpg</td>\n",
       "      <td>Technic</td>\n",
       "    </tr>\n",
       "    <tr>\n",
       "      <th>2</th>\n",
       "      <td>1030-1</td>\n",
       "      <td>TECHNIC I: Simple Machines Set</td>\n",
       "      <td>1985</td>\n",
       "      <td>210</td>\n",
       "      <td>https://cdn.rebrickable.com/media/sets/1030-1.jpg</td>\n",
       "      <td>Technic</td>\n",
       "    </tr>\n",
       "    <tr>\n",
       "      <th>3</th>\n",
       "      <td>1038-1</td>\n",
       "      <td>ERBIE the Robo-Car</td>\n",
       "      <td>1985</td>\n",
       "      <td>120</td>\n",
       "      <td>https://cdn.rebrickable.com/media/sets/1038-1.jpg</td>\n",
       "      <td>Technic</td>\n",
       "    </tr>\n",
       "    <tr>\n",
       "      <th>4</th>\n",
       "      <td>1039-1</td>\n",
       "      <td>Manual Control Set 1</td>\n",
       "      <td>1986</td>\n",
       "      <td>39</td>\n",
       "      <td>https://cdn.rebrickable.com/media/sets/1039-1.jpg</td>\n",
       "      <td>Technic</td>\n",
       "    </tr>\n",
       "  </tbody>\n",
       "</table>\n",
       "</div>"
      ],
      "text/plain": [
       "  set_num                            name  year  num_parts  \\\n",
       "0   001-1                           Gears  1965         43   \n",
       "1   002-1  4.5V Samsonite Gears Motor Set  1965          3   \n",
       "2  1030-1  TECHNIC I: Simple Machines Set  1985        210   \n",
       "3  1038-1              ERBIE the Robo-Car  1985        120   \n",
       "4  1039-1            Manual Control Set 1  1986         39   \n",
       "\n",
       "                                             img_url theme_name  \n",
       "0   https://cdn.rebrickable.com/media/sets/001-1.jpg    Technic  \n",
       "1   https://cdn.rebrickable.com/media/sets/002-1.jpg    Technic  \n",
       "2  https://cdn.rebrickable.com/media/sets/1030-1.jpg    Technic  \n",
       "3  https://cdn.rebrickable.com/media/sets/1038-1.jpg    Technic  \n",
       "4  https://cdn.rebrickable.com/media/sets/1039-1.jpg    Technic  "
      ]
     },
     "execution_count": 22,
     "metadata": {},
     "output_type": "execute_result"
    }
   ],
   "source": [
    "themes = themes[[\"id\", \"name\"]]\n",
    "themes.rename(columns={\"name\":\"theme_name\"}, inplace=True)\n",
    "\n",
    "new_df = pd.merge(sets, themes, left_on=\"theme_id\", right_on=\"id\", how='inner').drop(columns=[\"theme_id\", \"id\"])\n",
    "new_df.head()"
   ]
  },
  {
   "cell_type": "markdown",
   "metadata": {},
   "source": [
    "# __Zadanie 16__"
   ]
  },
  {
   "cell_type": "code",
   "execution_count": 23,
   "metadata": {},
   "outputs": [
    {
     "data": {
      "text/html": [
       "<div>\n",
       "<style scoped>\n",
       "    .dataframe tbody tr th:only-of-type {\n",
       "        vertical-align: middle;\n",
       "    }\n",
       "\n",
       "    .dataframe tbody tr th {\n",
       "        vertical-align: top;\n",
       "    }\n",
       "\n",
       "    .dataframe thead th {\n",
       "        text-align: right;\n",
       "    }\n",
       "</style>\n",
       "<table border=\"1\" class=\"dataframe\">\n",
       "  <thead>\n",
       "    <tr style=\"text-align: right;\">\n",
       "      <th></th>\n",
       "      <th>set_num</th>\n",
       "      <th>name</th>\n",
       "      <th>year</th>\n",
       "      <th>num_parts</th>\n",
       "      <th>img_url</th>\n",
       "      <th>theme_name</th>\n",
       "    </tr>\n",
       "  </thead>\n",
       "  <tbody>\n",
       "    <tr>\n",
       "      <th>272</th>\n",
       "      <td>8429-1</td>\n",
       "      <td>Helicopter</td>\n",
       "      <td>2002</td>\n",
       "      <td>149</td>\n",
       "      <td>https://cdn.rebrickable.com/media/sets/8429-1.jpg</td>\n",
       "      <td>Technic</td>\n",
       "    </tr>\n",
       "    <tr>\n",
       "      <th>273</th>\n",
       "      <td>8430-1</td>\n",
       "      <td>Motorbike</td>\n",
       "      <td>2002</td>\n",
       "      <td>315</td>\n",
       "      <td>https://cdn.rebrickable.com/media/sets/8430-1.jpg</td>\n",
       "      <td>Technic</td>\n",
       "    </tr>\n",
       "    <tr>\n",
       "      <th>274</th>\n",
       "      <td>8431-1</td>\n",
       "      <td>Crane Truck</td>\n",
       "      <td>2002</td>\n",
       "      <td>836</td>\n",
       "      <td>https://cdn.rebrickable.com/media/sets/8431-1.jpg</td>\n",
       "      <td>Technic</td>\n",
       "    </tr>\n",
       "    <tr>\n",
       "      <th>1250</th>\n",
       "      <td>1201-2</td>\n",
       "      <td>Chicken Run</td>\n",
       "      <td>2002</td>\n",
       "      <td>6</td>\n",
       "      <td>https://cdn.rebrickable.com/media/sets/1201-2.jpg</td>\n",
       "      <td>Basic Set</td>\n",
       "    </tr>\n",
       "    <tr>\n",
       "      <th>1251</th>\n",
       "      <td>1384-1</td>\n",
       "      <td>Bird (Pre-School Building Toy) (Explore)</td>\n",
       "      <td>2002</td>\n",
       "      <td>6</td>\n",
       "      <td>https://cdn.rebrickable.com/media/sets/1384-1.jpg</td>\n",
       "      <td>Basic Set</td>\n",
       "    </tr>\n",
       "  </tbody>\n",
       "</table>\n",
       "</div>"
      ],
      "text/plain": [
       "     set_num                                      name  year  num_parts  \\\n",
       "272   8429-1                                Helicopter  2002        149   \n",
       "273   8430-1                                 Motorbike  2002        315   \n",
       "274   8431-1                               Crane Truck  2002        836   \n",
       "1250  1201-2                               Chicken Run  2002          6   \n",
       "1251  1384-1  Bird (Pre-School Building Toy) (Explore)  2002          6   \n",
       "\n",
       "                                                img_url theme_name  \n",
       "272   https://cdn.rebrickable.com/media/sets/8429-1.jpg    Technic  \n",
       "273   https://cdn.rebrickable.com/media/sets/8430-1.jpg    Technic  \n",
       "274   https://cdn.rebrickable.com/media/sets/8431-1.jpg    Technic  \n",
       "1250  https://cdn.rebrickable.com/media/sets/1201-2.jpg  Basic Set  \n",
       "1251  https://cdn.rebrickable.com/media/sets/1384-1.jpg  Basic Set  "
      ]
     },
     "execution_count": 23,
     "metadata": {},
     "output_type": "execute_result"
    }
   ],
   "source": [
    "new_df_my_year = new_df[new_df[\"year\"]==2002]\n",
    "new_df_my_year.head()"
   ]
  },
  {
   "cell_type": "code",
   "execution_count": 24,
   "metadata": {},
   "outputs": [],
   "source": [
    "to_pie = new_df_my_year.groupby(\"theme_name\").count()[\"set_num\"]\n",
    "\n",
    "# getting rid of shit\n",
    "to_pie = to_pie[to_pie.values > 10]"
   ]
  },
  {
   "cell_type": "code",
   "execution_count": 25,
   "metadata": {},
   "outputs": [
    {
     "data": {
      "image/png": "[encoded data removed]",
      "text/plain": [
       "<Figure size 1500x800 with 1 Axes>"
      ]
     },
     "metadata": {},
     "output_type": "display_data"
    }
   ],
   "source": [
    "plt.figure(figsize=(15,8))\n",
    "plt.pie(to_pie.values, labels=to_pie.index)\n",
    "plt.show()"
   ]
  },
  {
   "cell_type": "markdown",
   "metadata": {},
   "source": [
    "# __Zadanie 17__"
   ]
  },
  {
   "cell_type": "code",
   "execution_count": 26,
   "metadata": {},
   "outputs": [
    {
     "data": {
      "text/plain": [
       "theme_name    year\n",
       "Classic Town  1978    34\n",
       "              1979    19\n",
       "              1980    17\n",
       "              1981    15\n",
       "              1982    10\n",
       "                      ..\n",
       "Technic       2019    14\n",
       "              2020    23\n",
       "              2021    20\n",
       "              2022    16\n",
       "              2023    22\n",
       "Name: set_num, Length: 79, dtype: int64"
      ]
     },
     "execution_count": 26,
     "metadata": {},
     "output_type": "execute_result"
    }
   ],
   "source": [
    "themes2check = [\"Pirates I\", \"Classic Town\", \"Technic\"]\n",
    "\n",
    "time_series_df = new_df[new_df[\"theme_name\"].isin(themes2check)]\n",
    "\n",
    "group_theme_year = time_series_df.groupby([\"theme_name\", \"year\"]).count()[\"set_num\"]\n",
    "group_theme_year "
   ]
  },
  {
   "cell_type": "code",
   "execution_count": 27,
   "metadata": {},
   "outputs": [
    {
     "data": {
      "image/png": "[encoded data removed]",
      "text/plain": [
       "<Figure size 640x480 with 1 Axes>"
      ]
     },
     "metadata": {},
     "output_type": "display_data"
    }
   ],
   "source": [
    "plot_colors = [\"red\", \"green\", \"blue\"]\n",
    "\n",
    "for theme, color in zip(themes2check, plot_colors):\n",
    "    plt.plot(group_theme_year[theme], color=color)\n",
    "    \n",
    "\n",
    "plt.legend(themes2check)\n",
    "plt.title(\"Ilości wydanych zestawów wybranych serii w czasie\")\n",
    "plt.xlabel(\"Lata\")\n",
    "plt.ylabel(\"Ilość zestawów\")\n",
    "plt.grid(True)\n",
    "plt.show()"
   ]
  },
  {
   "cell_type": "markdown",
   "metadata": {},
   "source": [
    "ale guwno"
   ]
  },
  {
   "cell_type": "code",
   "execution_count": 29,
   "metadata": {},
   "outputs": [
    {
     "data": {
      "image/png": "[encoded data removed]",
      "text/plain": [
       "<Figure size 640x480 with 1 Axes>"
      ]
     },
     "metadata": {},
     "output_type": "display_data"
    }
   ],
   "source": [
    "min_val = new_df[new_df[\"theme_name\"]==\"Pirates I\"][\"year\"].min()\n",
    "max_val = new_df[new_df[\"theme_name\"]==\"Classic Town\"][\"year\"].max()\n",
    "\n",
    "for theme, color in zip(themes2check, plot_colors):\n",
    "    plt.plot(group_theme_year[theme], color=color)\n",
    "    \n",
    "\n",
    "plt.legend(themes2check)\n",
    "plt.title(f\"Ilości wydanych zestawów wybranych serii w latach {min_val} - {max_val}\")\n",
    "plt.xlabel(\"Lata\")\n",
    "plt.ylabel(\"Ilość zestawów\")\n",
    "plt.grid(True)\n",
    "plt.xlim([min_val, max_val])\n",
    "plt.ylim([0, 35])\n",
    "plt.show()"
   ]
  },
  {
   "cell_type": "markdown",
   "metadata": {},
   "source": [
    "# __Zadadanie 18__"
   ]
  },
  {
   "cell_type": "code",
   "execution_count": 30,
   "metadata": {},
   "outputs": [
    {
     "data": {
      "text/html": [
       "<div>\n",
       "<style scoped>\n",
       "    .dataframe tbody tr th:only-of-type {\n",
       "        vertical-align: middle;\n",
       "    }\n",
       "\n",
       "    .dataframe tbody tr th {\n",
       "        vertical-align: top;\n",
       "    }\n",
       "\n",
       "    .dataframe thead th {\n",
       "        text-align: right;\n",
       "    }\n",
       "</style>\n",
       "<table border=\"1\" class=\"dataframe\">\n",
       "  <thead>\n",
       "    <tr style=\"text-align: right;\">\n",
       "      <th></th>\n",
       "      <th>set_num</th>\n",
       "      <th>name</th>\n",
       "      <th>year</th>\n",
       "      <th>num_parts</th>\n",
       "      <th>theme_name</th>\n",
       "    </tr>\n",
       "  </thead>\n",
       "  <tbody>\n",
       "    <tr>\n",
       "      <th>2657</th>\n",
       "      <td>700.A-1</td>\n",
       "      <td>Small Brick Set (ABB)</td>\n",
       "      <td>1949</td>\n",
       "      <td>24</td>\n",
       "      <td>Supplemental</td>\n",
       "    </tr>\n",
       "    <tr>\n",
       "      <th>8338</th>\n",
       "      <td>700.1-1</td>\n",
       "      <td>Extra-Large Gift Set (ABB)</td>\n",
       "      <td>1949</td>\n",
       "      <td>142</td>\n",
       "      <td>System</td>\n",
       "    </tr>\n",
       "    <tr>\n",
       "      <th>8339</th>\n",
       "      <td>700.2-1</td>\n",
       "      <td>Large Gift Set (ABB)</td>\n",
       "      <td>1949</td>\n",
       "      <td>178</td>\n",
       "      <td>System</td>\n",
       "    </tr>\n",
       "    <tr>\n",
       "      <th>2658</th>\n",
       "      <td>700.B-1</td>\n",
       "      <td>Small Doors and Windows Set (ABB)</td>\n",
       "      <td>1949</td>\n",
       "      <td>12</td>\n",
       "      <td>Supplemental</td>\n",
       "    </tr>\n",
       "    <tr>\n",
       "      <th>8340</th>\n",
       "      <td>700.3-1</td>\n",
       "      <td>Medium Gift Set (ABB)</td>\n",
       "      <td>1949</td>\n",
       "      <td>142</td>\n",
       "      <td>System</td>\n",
       "    </tr>\n",
       "  </tbody>\n",
       "</table>\n",
       "</div>"
      ],
      "text/plain": [
       "      set_num                               name  year  num_parts  \\\n",
       "2657  700.A-1              Small Brick Set (ABB)  1949         24   \n",
       "8338  700.1-1         Extra-Large Gift Set (ABB)  1949        142   \n",
       "8339  700.2-1               Large Gift Set (ABB)  1949        178   \n",
       "2658  700.B-1  Small Doors and Windows Set (ABB)  1949         12   \n",
       "8340  700.3-1              Medium Gift Set (ABB)  1949        142   \n",
       "\n",
       "        theme_name  \n",
       "2657  Supplemental  \n",
       "8338        System  \n",
       "8339        System  \n",
       "2658  Supplemental  \n",
       "8340        System  "
      ]
     },
     "execution_count": 30,
     "metadata": {},
     "output_type": "execute_result"
    }
   ],
   "source": [
    "df2save = new_df.copy()\n",
    "\n",
    "df2save.drop(\"img_url\", axis=1, inplace=True)\n",
    "df2save.sort_values(by=\"year\", inplace=True)\n",
    "\n",
    "df2save.head()"
   ]
  },
  {
   "cell_type": "markdown",
   "metadata": {},
   "source": [
    "# __Dodatkowe__"
   ]
  },
  {
   "cell_type": "markdown",
   "metadata": {},
   "source": [
    "moze kiedys zrobie xd"
   ]
  },
  {
   "cell_type": "markdown",
   "metadata": {},
   "source": []
  }
 ],
 "metadata": {
  "kernelspec": {
   "display_name": "portfolio",
   "language": "python",
   "name": "python3"
  },
  "language_info": {
   "codemirror_mode": {
    "name": "ipython",
    "version": 3
   },
   "file_extension": ".py",
   "mimetype": "text/x-python",
   "name": "python",
   "nbconvert_exporter": "python",
   "pygments_lexer": "ipython3",
   "version": "3.11.4"
  }
 },
 "nbformat": 4,
 "nbformat_minor": 2
}
